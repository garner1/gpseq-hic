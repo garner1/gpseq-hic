{
 "cells": [
  {
   "cell_type": "markdown",
   "metadata": {},
   "source": [
    "Load necessary libraries and functions:"
   ]
  },
  {
   "cell_type": "code",
   "execution_count": 3,
   "metadata": {},
   "outputs": [],
   "source": [
    "import numpy as np\n",
    "from scipy.sparse import coo_matrix\n",
    "import matplotlib.pyplot as plt\n",
    "import seaborn as sns; sns.set()\n",
    "from numpy import linalg as LA\n",
    "from scipy.sparse.linalg import svds, eigs\n",
    "from sklearn.decomposition import PCA\n",
    "from scipy.sparse import csr_matrix\n",
    "\n",
    "def convertNansToZeros(ma):\n",
    "    nan_elements = np.flatnonzero(np.isnan(ma.data))\n",
    "    if len(nan_elements) > 0:\n",
    "        ma.data[nan_elements] = 0\n",
    "    return ma\n",
    "\n",
    "\n",
    "def convertInfsToZeros(ma):\n",
    "    inf_elements = np.flatnonzero(np.isinf(ma.data))\n",
    "    if len(inf_elements) > 0:\n",
    "        ma.data[inf_elements] = 0\n",
    "    return ma\n",
    "def check_symmetric(a, tol=1e-8):\n",
    "    return np.allclose(a, a.T, atol=tol)"
   ]
  },
  {
   "cell_type": "code",
   "execution_count": 4,
   "metadata": {},
   "outputs": [
    {
     "name": "stdout",
     "output_type": "stream",
     "text": [
      "1 10min\n",
      "2 10min\n",
      "3 10min\n",
      "4 10min\n",
      "5 10min\n",
      "6 10min\n",
      "7 10min\n",
      "8 10min\n",
      "9 10min\n",
      "10 10min\n",
      "1 15min\n",
      "2 15min\n",
      "3 15min\n",
      "4 15min\n",
      "5 15min\n",
      "6 15min\n",
      "7 15min\n",
      "8 15min\n",
      "9 15min\n",
      "10 15min\n",
      "1 30min\n",
      "2 30min\n",
      "3 30min\n",
      "4 30min\n",
      "5 30min\n",
      "6 30min\n",
      "7 30min\n",
      "8 30min\n",
      "9 30min\n",
      "10 30min\n",
      "1 on\n",
      "2 on\n",
      "3 on\n",
      "4 on\n",
      "5 on\n",
      "6 on\n",
      "7 on\n",
      "8 on\n",
      "9 on\n",
      "10 on\n"
     ]
    }
   ],
   "source": [
    "run = 'bc58'\n",
    "time = 'on'\n",
    "gpseqdir = '/home/garner1/Work/dataset/gpseq+hic/gpseq.1M.bincount/'\n",
    "hicdir = '/home/garner1/Work/dataset/gpseq+hic/'\n",
    "partition = 'deciles'\n",
    "# partition = 'fixed_step_centrality'\n",
    "karyotype = [1,2,3,4,5,6,7,8,10,11,12,13,14,15,16,17,18,19,20,21,'X'] # chr9 and chr22 are missing \n",
    "for time in ['10min','15min','30min','on']:\n",
    "    for centrality in range(1,11):\n",
    "        print centrality, time\n",
    "        for chr_i in karyotype:\n",
    "            gpseq_i = gpseqdir+run+'/'+time+'/chr'+str(chr_i)\n",
    "            datap_gpseq_i = np.loadtxt(gpseq_i,usecols=(0,1))\n",
    "            i_gpseq = datap_gpseq_i[:,0].astype(int) #bin i in gpseq\n",
    "            pi_gpseq = datap_gpseq_i[:,1].astype(int) #count in bin i\n",
    "            rows_gpseq = int(max(i_gpseq)) \n",
    "            for chr_j in karyotype[karyotype.index(chr_i):]:\n",
    "                gpseq_j = gpseqdir+run+'/'+time+'/chr'+str(chr_j)\n",
    "                hic = hicdir+run+'/'+partition+'/chr'+str(chr_i)+'-chr'+str(chr_j)+'.1M.none.observed.txt.'+run+'.tsv'\n",
    "\n",
    "                datap_gpseq_j = np.loadtxt(gpseq_j,usecols=(0,1)) \n",
    "                data_hic = np.loadtxt(hic,usecols=(0,1,2,3,4,5,6))\n",
    "\n",
    "                i_hic = data_hic[:,0].astype(int) # bin labels as rows\n",
    "                j_hic = data_hic[:,1].astype(int) # bin labels as cols\n",
    "                pij_hic = data_hic[:,2].astype(int) # number of contact between i and j bins\n",
    "\n",
    "                j_gpseq = datap_gpseq_j[:,0].astype(int) # bin j in gpseq\n",
    "                pj_gpseq = datap_gpseq_j[:,1].astype(int) # count in bin j from gpseq\n",
    "\n",
    "                rows_hic = int(max(i_hic))\n",
    "                cols_hic = int(max(j_hic))\n",
    "                cols_gpseq = int(max(j_gpseq))\n",
    "                rows = max([rows_hic,rows_gpseq])\n",
    "                cols = max([cols_hic,cols_gpseq])\n",
    "\n",
    "                joint = coo_matrix((pij_hic, (i_hic, j_hic)), shape=(rows+1, cols+1)).todense()\n",
    "                \n",
    "                row_index = np.array(i_hic[data_hic[:,3] == centrality]) # filter mat by centralities\n",
    "                col_index = np.array(j_hic[data_hic[:,5] == centrality]) # filter mat by centralities\n",
    "                newjoint = np.zeros(joint.shape)\n",
    "                for row in xrange(joint.shape[0]):\n",
    "                    for col in xrange(joint.shape[1]):\n",
    "                        if (row in row_index) and (col in col_index):\n",
    "                            newjoint[row,col] = joint[row,col]\n",
    "                if chr_i is chr_j: \n",
    "                    locals()['JOINTchrom'+str(chr_i)+'chrom'+str(chr_j)+'_layer'+str(centrality)] = newjoint+newjoint.transpose()\n",
    "                if chr_i is not chr_j: \n",
    "                    locals()['JOINTchrom'+str(chr_i)+'chrom'+str(chr_j)+'_layer'+str(centrality)] = newjoint\n",
    "                    locals()['JOINTchrom'+str(chr_j)+'chrom'+str(chr_i)+'_layer'+str(centrality)] = newjoint.transpose()\n",
    "            locals()['MARGINALSchrom'+str(chr_i)+'_layer'+str(centrality)+'_'+str(time)] = coo_matrix((pi_gpseq, (i_gpseq, np.zeros(len(i_gpseq)))), shape=(rows+1, 1)).todense().ravel()    \n",
    "    "
   ]
  },
  {
   "cell_type": "code",
   "execution_count": 5,
   "metadata": {},
   "outputs": [
    {
     "name": "stdout",
     "output_type": "stream",
     "text": [
      "1 46646952.0\n",
      "2 46615242.0\n",
      "3 50652100.0\n",
      "4 56307718.0\n",
      "5 65537132.0\n",
      "6 72383094.0\n",
      "7 86436366.0\n",
      "8 101894836.0\n",
      "9 118263832.0\n",
      "10 159463804.0\n"
     ]
    }
   ],
   "source": [
    "'''Build the genome-wide matrix as a block matrix of chromosomes'''\n",
    "for centrality in range(1,11):\n",
    "    locals()['genome_'+str(centrality)] = np.block([[locals()['JOINTchrom'+str(i)+'chrom'+str(j)+'_layer'+str(centrality)] for j in karyotype] for i in karyotype])\n",
    "    print centrality, locals()['genome_'+str(centrality)].sum()\n",
    "    for time in ['10min','15min','30min','on']: \n",
    "        locals()['marginal_'+str(centrality)+str(time)] = np.block([locals()['MARGINALSchrom'+str(i)+'_layer'+str(centrality)+'_'+str(time)] for i in karyotype])\n",
    "\n",
    "'''Take the total sum of the joint counts'''\n",
    "genome = locals()['genome_'+str(1)]\n",
    "for centrality in range(2,11):\n",
    "    genome = genome + locals()['genome_'+str(centrality)]\n",
    "norma = genome.sum()\n",
    "\n",
    "'''Take the total sum of the marginal counts'''\n",
    "for time in ['10min','15min','30min','on']:  \n",
    "    locals()['marginal_time'+str(time)] = locals()['marginal_'+str(1)+str(time)]\n",
    "    for centrality in range(2,11):\n",
    "        locals()['marginal_time'+str(time)] = locals()['marginal_time'+str(time)] + locals()['marginal_'+str(centrality)+str(time)]\n",
    "    locals()['norma_time'+str(time)]= locals()['marginal_time'+str(time)].sum()"
   ]
  },
  {
   "cell_type": "code",
   "execution_count": 6,
   "metadata": {},
   "outputs": [
    {
     "name": "stdout",
     "output_type": "stream",
     "text": [
      "10min\n"
     ]
    },
    {
     "name": "stderr",
     "output_type": "stream",
     "text": [
      "/home/garner1/anaconda2/lib/python2.7/site-packages/ipykernel_launcher.py:10: RuntimeWarning: invalid value encountered in divide\n",
      "  # Remove the CWD from sys.path while we load stuff.\n",
      "/home/garner1/anaconda2/lib/python2.7/site-packages/ipykernel_launcher.py:10: RuntimeWarning: divide by zero encountered in log2\n",
      "  # Remove the CWD from sys.path while we load stuff.\n"
     ]
    },
    {
     "name": "stdout",
     "output_type": "stream",
     "text": [
      "0.9555352559142768\n",
      "0.9738164543402381\n",
      "1.077933574181295\n",
      "1.2171431943688773\n",
      "1.4271227103091413\n",
      "1.5994442037784373\n",
      "1.9375614092627218\n",
      "2.310790927904309\n",
      "2.713660179503696\n",
      "3.688489366953713\n",
      "15min\n",
      "0.9307468296735855\n",
      "0.9498553364235856\n",
      "1.053663252912298\n",
      "1.191496823533607\n",
      "1.405457422075651\n",
      "1.5761687724887732\n",
      "1.916590749711621\n",
      "2.2846635783735167\n",
      "2.7066725669194756\n",
      "3.7216439021787657\n",
      "30min\n",
      "0.9821584996945502\n",
      "0.9958620366710554\n",
      "1.0966633019855883\n",
      "1.2303375048089085\n",
      "1.4377318913765988\n",
      "1.5992498728431324\n",
      "1.9218479934829251\n",
      "2.2733617784909113\n",
      "2.6359716435733818\n",
      "3.5171668928428916\n",
      "on\n",
      "1.0299694183433628\n",
      "1.0285639896426961\n",
      "1.1173275305195294\n",
      "1.238899681972109\n",
      "1.4297082874114921\n",
      "1.5679088767762024\n",
      "1.8515124820256215\n",
      "2.149535313369766\n",
      "2.4361316467779233\n",
      "3.1060300693510094\n"
     ]
    }
   ],
   "source": [
    "'''For each time and centrality layer evaluate the partial mutual information'''\n",
    "for time in ['10min','15min','30min','on']:\n",
    "    print time\n",
    "    for centrality in range(1,11):\n",
    "        joint = np.block([[locals()['JOINTchrom'+str(i)+'chrom'+str(j)+'_layer'+str(centrality)] for j in karyotype] for i in karyotype])\n",
    "        joint = joint*1.0/norma\n",
    "        marginal = np.block([locals()['MARGINALSchrom'+str(i)+'_layer'+str(centrality)+'_'+str(time)] for i in karyotype])    \n",
    "        marginal = marginal*1.0/locals()['norma_time'+str(time)]\n",
    "\n",
    "        info = np.log2(joint*1.0/np.outer(marginal,marginal))\n",
    "        info = convertNansToZeros(coo_matrix(info)).todense()\n",
    "        info = convertInfsToZeros(coo_matrix(info)).todense()\n",
    "\n",
    "        locals()['MI_layer'+str(centrality)+'_'+str(time)] = np.array(joint) * np.array(info)\n",
    "        print locals()['MI_layer'+str(centrality)+'_'+str(time)].sum()"
   ]
  },
  {
   "cell_type": "code",
   "execution_count": 11,
   "metadata": {},
   "outputs": [
    {
     "name": "stderr",
     "output_type": "stream",
     "text": [
      "/home/garner1/anaconda2/lib/python2.7/site-packages/ipykernel_launcher.py:8: RuntimeWarning: invalid value encountered in divide\n",
      "  \n",
      "/home/garner1/anaconda2/lib/python2.7/site-packages/ipykernel_launcher.py:8: RuntimeWarning: divide by zero encountered in log2\n",
      "  \n"
     ]
    },
    {
     "name": "stdout",
     "output_type": "stream",
     "text": [
      "0.6260293764284434\n",
      "0.6367921453348088\n",
      "0.692624182069981\n",
      "0.7641803323447683\n",
      "0.8675999418171673\n",
      "0.9421977047390456\n",
      "1.0926029591912516\n",
      "1.2380850758323303\n",
      "1.389272702666534\n",
      "1.659867597455851\n"
     ]
    }
   ],
   "source": [
    "'''For each centrality layer evaluate the partial mutual information considering HiC only'''\n",
    "marginal = np.sum(genome*1.0/genome.sum(), 1)\n",
    "marginal = marginal*1.0/marginal.sum()\n",
    "for centrality in range(1,11):\n",
    "    joint = locals()['genome_'+str(centrality)]\n",
    "    joint = joint*1.0/norma\n",
    "\n",
    "    info = np.log2(joint*1.0/np.outer(marginal,marginal))\n",
    "    info = convertNansToZeros(coo_matrix(info)).todense()\n",
    "    info = convertInfsToZeros(coo_matrix(info)).todense()\n",
    "\n",
    "    locals()['MI_layer'+str(centrality)] = np.array(joint) * np.array(info)\n",
    "    locals()['control_layer'+str(centrality)] = joint.sum()\n",
    "    \n",
    "    print locals()['MI_layer'+str(centrality)].sum()\n",
    "    "
   ]
  },
  {
   "cell_type": "code",
   "execution_count": 12,
   "metadata": {},
   "outputs": [
    {
     "data": {
      "image/png": "[encoded data removed]",
      "text/plain": [
       "<Figure size 432x288 with 1 Axes>"
      ]
     },
     "metadata": {},
     "output_type": "display_data"
    }
   ],
   "source": [
    "fig, ax = plt.subplots()\n",
    "time = '10min'\n",
    "y = [locals()['MI_layer'+str(centrality)+'_'+str(time)].sum() for centrality in range(1,11)]\n",
    "ax.scatter(x=range(len(y)),y=y,color='blue',label='10min')\n",
    "\n",
    "time = '15min'\n",
    "y = [locals()['MI_layer'+str(centrality)+'_'+str(time)].sum() for centrality in range(1,11)]\n",
    "ax.scatter(x=range(len(y)),y=y,color='green',label='15min')\n",
    "\n",
    "time = '30min'\n",
    "y = [locals()['MI_layer'+str(centrality)+'_'+str(time)].sum() for centrality in range(1,11)]\n",
    "ax.scatter(x=range(len(y)),y=y,color='red',label='30min')\n",
    "\n",
    "time = 'on'\n",
    "y = [locals()['MI_layer'+str(centrality)+'_'+str(time)].sum() for centrality in range(1,11)]\n",
    "ax.scatter(x=range(len(y)),y=y,color='orange',label='ON')\n",
    "\n",
    "y = [locals()['MI_layer'+str(centrality)].sum() for centrality in range(1,11)]\n",
    "ax.scatter(x=range(len(y)),y=y,color='yellow',label='HiC')\n",
    "\n",
    "y = [locals()['control_layer'+str(centrality)] for centrality in range(1,11)]\n",
    "ax.scatter(x=range(len(y)),y=y,color='brown',label='normalized-pair-count')\n",
    "\n",
    "ax.set_xticks(range(0,10))\n",
    "ax.set_xticklabels([\"periphery\",\"VIII\",\"VII\",\"VI\",\"V\",\"IV\",\"III\",\"II\",\"I\",\"center\"])\n",
    "ax.set_title('Mutual information BC58 with deciles')\n",
    "plt.legend()\n",
    "plt.savefig('MI_BC58 with deciles.png')\n"
   ]
  }
 ],
 "metadata": {
  "kernelspec": {
   "display_name": "Python 2",
   "language": "python",
   "name": "python2"
  },
  "language_info": {
   "codemirror_mode": {
    "name": "ipython",
    "version": 2
   },
   "file_extension": ".py",
   "mimetype": "text/x-python",
   "name": "python",
   "nbconvert_exporter": "python",
   "pygments_lexer": "ipython2",
   "version": "2.7.14"
  }
 },
 "nbformat": 4,
 "nbformat_minor": 2
}
