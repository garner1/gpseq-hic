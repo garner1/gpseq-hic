{
 "cells": [
  {
   "cell_type": "markdown",
   "metadata": {},
   "source": [
    "Load basic libraries:"
   ]
  },
  {
   "cell_type": "code",
   "execution_count": 1,
   "metadata": {},
   "outputs": [],
   "source": [
    "import numpy as np\n",
    "from scipy.sparse import coo_matrix\n",
    "import matplotlib.pyplot as plt\n",
    "import seaborn as sns; sns.set()\n",
    "from numpy import linalg as LA\n",
    "from scipy.sparse.linalg import svds, eigs\n",
    "from sklearn.decomposition import PCA\n",
    "from scipy.sparse import csr_matrix\n",
    "import pickle\n",
    "\n",
    "def convertNansToZeros(ma):\n",
    "    nan_elements = np.flatnonzero(np.isnan(ma.data))\n",
    "    if len(nan_elements) > 0:\n",
    "        ma.data[nan_elements] = 0\n",
    "    return ma\n",
    "\n",
    "\n",
    "def convertInfsToZeros(ma):\n",
    "    inf_elements = np.flatnonzero(np.isinf(ma.data))\n",
    "    if len(inf_elements) > 0:\n",
    "        ma.data[inf_elements] = 0\n",
    "    return ma"
   ]
  },
  {
   "cell_type": "markdown",
   "metadata": {},
   "source": [
    "Load a given dataset, in this tab we do not consider centrality, we only care about HiC data:"
   ]
  },
  {
   "cell_type": "code",
   "execution_count": 2,
   "metadata": {},
   "outputs": [],
   "source": [
    "filter_layer = False # if you want to filter contacts by centrality layers\n",
    "layer = 4\n",
    "layer_i = layer # from 1 to 4\n",
    "layer_j = layer # from 1 to 4\n",
    "\n",
    "run = '48'\n",
    "karyotype = [1,2,3,4,5,6,7,8,10,11,12,13,14,15,16,17,18,19,20,21,'X'] # chr9 and chr22 are missing \n",
    "# karyotype = [1]\n",
    "for chr_i in karyotype:\n",
    "    for chr_j in karyotype[karyotype.index(chr_i):]:\n",
    "        filename = '/home/garner1/Work/dataset/gpseq+hic/bc'+run+'/chr'+str(chr_i)+'-chr'+str(chr_j)+'.inter.observed.none.txt.bc'+run+'.tsv'\n",
    "        data = np.loadtxt(filename,usecols=(0,1,2,3,4,5,6))\n",
    "\n",
    "        i = data[:,0].astype(int) # bin labels as rows\n",
    "        j = data[:,1].astype(int) # bil labels as cols\n",
    "        ij = data[:,2].astype(int) # number of contact between i and j bins\n",
    "        \n",
    "        rows = int(max(i))\n",
    "        cols = int(max(j))\n",
    "        mat = coo_matrix((ij, (i, j)), shape=(rows+1, cols+1)).todense()\n",
    "        if filter_layer:\n",
    "            for ind_i in xrange(mat.shape[0]):\n",
    "                for ind_j in xrange(mat.shape[1]):\n",
    "                    if not (data[ind_i,3] == layer_i and data[ind_j,5] == layer_j):\n",
    "                        mat[ind_i,ind_j] = 0\n",
    "#         if chr_i == chr_j : \n",
    "#             mat = mat + mat.transpose()\n",
    "        locals()['chrom'+str(chr_i)+'chrom'+str(chr_j)] = mat\n",
    "        locals()['chrom'+str(chr_j)+'chrom'+str(chr_i)] = mat.transpose()\n",
    "    if not filter_layer:\n",
    "        centrality_vec = np.zeros((rows+1,1))\n",
    "        centrality_vec[i,0] = data[:,4]\n",
    "        locals()['chrom'+str(chr_i)+'chrom'+'C'] = centrality_vec.ravel()\n",
    "        locals()['chrom'+'C'+'chrom'+str(chr_i)] = centrality_vec.transpose()\n",
    "    layer_vec = np.zeros((rows+1,1))\n",
    "    layer_vec[i,0] = data[:,3]\n",
    "    locals()['chrom'+str(chr_i)+'layer'] = layer_vec.ravel()\n",
    "\n",
    "if not filter_layer:\n",
    "    locals()['chrom'+'C'+'chrom'+'C'] = np.ones((1,1))\n"
   ]
  },
  {
   "cell_type": "markdown",
   "metadata": {},
   "source": [
    "Combine the HiC blocks in order to generate a genome-wide HiC map. \n",
    "\n",
    "The normalization of the genome and centrality values is done in such a way that 2*max_centrality = Log(max_interaction)."
   ]
  },
  {
   "cell_type": "code",
   "execution_count": 3,
   "metadata": {},
   "outputs": [
    {
     "name": "stderr",
     "output_type": "stream",
     "text": [
      "/home/garner1/anaconda2/lib/python2.7/site-packages/ipykernel_launcher.py:9: RuntimeWarning: divide by zero encountered in log\n",
      "  if __name__ == '__main__':\n"
     ]
    }
   ],
   "source": [
    "karyotype = [1,2,3,4,5,6,7,8,10,11,12,13,14,15,16,17,18,19,20,21,'X'] # chr9 and chr22 are missing and C is added\n",
    "genome = np.block([[locals()['chrom'+str(i)+'chrom'+str(j)] for j in karyotype] for i in karyotype])\n",
    "genome = np.log(genome)\n",
    "genome = convertNansToZeros(coo_matrix(genome)).todense()\n",
    "genome = convertInfsToZeros(coo_matrix(genome)).todense()\n",
    "centrality_col = np.block([[locals()['chrom'+str(i)+'chrom'+str(j)] for j in ['C']] for i in karyotype])\n",
    "centrality_row = centrality_col.transpose()\n",
    "genome = np.block([[genome,centrality_col],[centrality_row,0.0*np.ones((1,1))]])"
   ]
  },
  {
   "cell_type": "markdown",
   "metadata": {},
   "source": [
    "Use MDS to embed in low dimension. MDS has as input the euclidean distance of each bin contact profile, including centrality:"
   ]
  },
  {
   "cell_type": "code",
   "execution_count": 13,
   "metadata": {},
   "outputs": [],
   "source": [
    "from sklearn.metrics import pairwise_distances\n",
    "from sklearn.manifold import MDS\n",
    "dim = 2\n",
    "D = pairwise_distances(genome[:-1,:-1])\n",
    "model = MDS(n_components=dim, dissimilarity='precomputed', random_state=1,n_jobs = -1)\n",
    "out = model.fit_transform(D)"
   ]
  },
  {
   "cell_type": "code",
   "execution_count": 14,
   "metadata": {},
   "outputs": [
    {
     "name": "stdout",
     "output_type": "stream",
     "text": [
      "(2814, 2) (2815, 2815) (2814, 1)\n"
     ]
    }
   ],
   "source": [
    "print out.shape,genome.shape, centrality_col.shape"
   ]
  },
  {
   "cell_type": "markdown",
   "metadata": {},
   "source": [
    "Generate 21 colors:"
   ]
  },
  {
   "cell_type": "code",
   "execution_count": 7,
   "metadata": {},
   "outputs": [],
   "source": [
    "# from matplotlib import colors as mcolors\n",
    "# from random import randint,sample\n",
    "\n",
    "# colors = dict(mcolors.BASE_COLORS, **mcolors.CSS4_COLORS)\n",
    "# # Sort colors by hue, saturation, value and name.\n",
    "# by_hsv = sorted((tuple(mcolors.rgb_to_hsv(mcolors.to_rgba(color)[:3])), name)\n",
    "#                 for name, color in colors.items())\n",
    "# sorted_names = [name for hsv, name in by_hsv]\n",
    "# # color_list = sample(sorted_names,21)\n",
    "color_list = [u'b', u'lightgoldenrodyellow', u'navajowhite', u'paleturquoise', u'salmon', u'dimgray', u'chartreuse', u'aliceblue', u'royalblue', u'darkgreen', u'mediumturquoise', u'forestgreen', u'thistle', u'orchid', u'gold', u'maroon', u'wheat', u'navy', u'khaki', u'palevioletred', u'cornflowerblue']"
   ]
  },
  {
   "cell_type": "markdown",
   "metadata": {},
   "source": [
    "Create chrom#coordinates,chrom#color,chrom#chromosome data to be merged in a pandas dataframe:"
   ]
  },
  {
   "cell_type": "code",
   "execution_count": 30,
   "metadata": {},
   "outputs": [],
   "source": [
    "import pandas as pd\n",
    "layer = ''\n",
    "karyotype = [1,2,3,4,5,6,7,8,10,11,12,13,14,15,16,17,18,19,20,21,'X'] # chr9 and chr22 are missing \n",
    "offset = 0\n",
    "for chrom in karyotype:\n",
    "    length = locals()['chrom'+str(chrom)+'chrom'+'1'].shape[0] # the length of the chromosome\n",
    "    locals()['chrom'+str(chrom)+'coordinates'] = out[offset:offset+length,:dim] # its xyz coordinates\n",
    "    locals()['chrom'+str(chrom)+'color'] = [color_list[karyotype.index(chrom)]]*length # its color\n",
    "    locals()['chrom'+str(chrom)+'chromosome'] = [str(chrom)]*length # its label\n",
    "    locals()['chrom'+str(chrom)+'df'] = pd.DataFrame({'x':locals()['chrom'+str(chrom)+'coordinates'][:,0],'y':locals()['chrom'+str(chrom)+'coordinates'][:,1], 'color':locals()['chrom'+str(chrom)+'color'][0],'chromosome':locals()['chrom'+str(chrom)+'chromosome'][0],'layer':locals()['chrom'+str(chrom)+'layer'],'centrality':locals()['chrom'+str(chrom)+'chromC'].ravel()})\n",
    "    offset = length+offset\n",
    "locals()['genomeDF'] = pd.concat([locals()['chrom'+str(chrom)+'df'] for chrom in karyotype])"
   ]
  },
  {
   "cell_type": "code",
   "execution_count": 38,
   "metadata": {},
   "outputs": [],
   "source": [
    "genomeDF['newX'] = genomeDF.x * 1.0/genomeDF.centrality\n",
    "genomeDF['newY'] = genomeDF.y * 1.0/genomeDF.centrality"
   ]
  },
  {
   "cell_type": "code",
   "execution_count": 43,
   "metadata": {},
   "outputs": [
    {
     "data": {
      "application/vnd.jupyter.widget-view+json": {
       "model_id": "68b386d0b349466ca771fa12fb1559ea",
       "version_major": 2,
       "version_minor": 0
      },
      "text/plain": [
       "FigureCanvasNbAgg()"
      ]
     },
     "metadata": {},
     "output_type": "display_data"
    }
   ],
   "source": [
    "# genomeDF\n",
    "ax1 = genomeDF.plot.scatter('newX','newY',color=genomeDF['color'])\n",
    "plt.savefig('with_centrality.png')"
   ]
  },
  {
   "cell_type": "code",
   "execution_count": 44,
   "metadata": {},
   "outputs": [
    {
     "data": {
      "application/vnd.jupyter.widget-view+json": {
       "model_id": "be36232ef61d4a1aa6f4ffa610c399f4",
       "version_major": 2,
       "version_minor": 0
      },
      "text/plain": [
       "FigureCanvasNbAgg()"
      ]
     },
     "metadata": {},
     "output_type": "display_data"
    }
   ],
   "source": [
    "ax2 = genomeDF.plot.scatter('x','y',color=genomeDF['color'])\n",
    "plt.savefig('without_centrality')"
   ]
  },
  {
   "cell_type": "markdown",
   "metadata": {},
   "source": [
    "Visualizations:"
   ]
  },
  {
   "cell_type": "code",
   "execution_count": 463,
   "metadata": {},
   "outputs": [
    {
     "data": {
      "application/vnd.jupyter.widget-view+json": {
       "model_id": "32fa4be209504ba1b4bb79306148173b",
       "version_major": 2,
       "version_minor": 0
      },
      "text/plain": [
       "FigureCanvasNbAgg()"
      ]
     },
     "metadata": {},
     "output_type": "display_data"
    }
   ],
   "source": [
    "'''\n",
    "All layers\n",
    "'''\n",
    "if dim == 3:\n",
    "    from mpl_toolkits.mplot3d import Axes3D\n",
    "    import matplotlib.pyplot as plt\n",
    "    fig = plt.figure()\n",
    "    ax = fig.add_subplot(111, projection='3d')\n",
    "    data = genome_layered\n",
    "    ax.scatter(data['x'], data['y'], data['z'], c=data['color'])\n",
    "    plt.show()\n",
    "if dim == 2:\n",
    "    fig, ax = plt.subplots()\n",
    "    data = genome_layered\n",
    "    ax.scatter(data['x'], data['y'], c=data['color'])"
   ]
  },
  {
   "cell_type": "code",
   "execution_count": 42,
   "metadata": {},
   "outputs": [
    {
     "data": {
      "application/vnd.jupyter.widget-view+json": {
       "model_id": "f0fef863038a4ccdb0c577a28543b769",
       "version_major": 2,
       "version_minor": 0
      },
      "text/plain": [
       "FigureCanvasNbAgg()"
      ]
     },
     "metadata": {},
     "output_type": "display_data"
    }
   ],
   "source": [
    "%matplotlib ipympl\n",
    "import matplotlib.pyplot as plt\n",
    "import matplotlib.patches as mpatches\n",
    "\n",
    "fig = plt.figure(figsize=(2, 5))\n",
    "patches = [\n",
    "    mpatches.Patch(color=color, label=label)\n",
    "    for label, color in zip(karyotype, color_list)]\n",
    "fig.legend(patches, karyotype, loc='center', frameon=False)\n",
    "plt.savefig('legend.png')"
   ]
  },
  {
   "cell_type": "code",
   "execution_count": 465,
   "metadata": {},
   "outputs": [
    {
     "data": {
      "application/vnd.jupyter.widget-view+json": {
       "model_id": "5a476eb0da8e47bdbdffb466907ae783",
       "version_major": 2,
       "version_minor": 0
      },
      "text/plain": [
       "FigureCanvasNbAgg()"
      ]
     },
     "metadata": {},
     "output_type": "display_data"
    }
   ],
   "source": [
    "'''\n",
    "Layer 1\n",
    "'''\n",
    "if dim == 3:\n",
    "    from mpl_toolkits.mplot3d import Axes3D\n",
    "    import matplotlib.pyplot as plt\n",
    "    fig = plt.figure()\n",
    "    ax = fig.add_subplot(111, projection='3d')\n",
    "    data = genomeDF_layer1[genomeDF_layer1['layer'] == 1.0]\n",
    "    ax.scatter(data['x'], data['y'], data['z'], c=data['color'])\n",
    "    plt.show()\n",
    "if dim == 2:\n",
    "    fig, ax = plt.subplots()\n",
    "    data = genome_layer_11\n",
    "    ax.scatter(data['x'], data['y'], c=data['color'])"
   ]
  },
  {
   "cell_type": "code",
   "execution_count": 466,
   "metadata": {},
   "outputs": [
    {
     "data": {
      "application/vnd.jupyter.widget-view+json": {
       "model_id": "081c18a487924766bca90dbb5e0a2b96",
       "version_major": 2,
       "version_minor": 0
      },
      "text/plain": [
       "FigureCanvasNbAgg()"
      ]
     },
     "metadata": {},
     "output_type": "display_data"
    }
   ],
   "source": [
    "'''\n",
    "Layer 2\n",
    "'''\n",
    "if dim == 3:\n",
    "    from mpl_toolkits.mplot3d import Axes3D\n",
    "    import matplotlib.pyplot as plt\n",
    "    fig = plt.figure()\n",
    "    ax = fig.add_subplot(111, projection='3d')\n",
    "    data = genomeDF_layer2[genomeDF_layer2['layer'] == 2.0]\n",
    "    ax.scatter(data['x'], data['y'], data['z'], c=data['color'])\n",
    "    plt.show()\n",
    "if dim == 2:\n",
    "    fig, ax = plt.subplots()\n",
    "    data = genome_layer_22\n",
    "    ax.scatter(data['x'], data['y'], c=data['color'])"
   ]
  },
  {
   "cell_type": "code",
   "execution_count": 467,
   "metadata": {},
   "outputs": [
    {
     "data": {
      "application/vnd.jupyter.widget-view+json": {
       "model_id": "cda159eb008a4d558f2969b76787d47d",
       "version_major": 2,
       "version_minor": 0
      },
      "text/plain": [
       "FigureCanvasNbAgg()"
      ]
     },
     "metadata": {},
     "output_type": "display_data"
    }
   ],
   "source": [
    "'''\n",
    "Layer 3\n",
    "'''\n",
    "if dim == 3:\n",
    "    from mpl_toolkits.mplot3d import Axes3D\n",
    "    import matplotlib.pyplot as plt\n",
    "    fig = plt.figure()\n",
    "    ax = fig.add_subplot(111, projection='3d')\n",
    "    data = genomeDF_layer3[genomeDF_layer3['layer'] == 3.0]\n",
    "    ax.scatter(data['x'], data['y'], data['z'], c=data['color'])\n",
    "    plt.show()\n",
    "if dim == 2:\n",
    "    fig, ax = plt.subplots()\n",
    "    data = genome_layer_33\n",
    "    ax.scatter(data['x'], data['y'], c=data['color'])"
   ]
  },
  {
   "cell_type": "code",
   "execution_count": 468,
   "metadata": {
    "scrolled": true
   },
   "outputs": [
    {
     "data": {
      "application/vnd.jupyter.widget-view+json": {
       "model_id": "2d97e601bcec402fb1bc066109109c57",
       "version_major": 2,
       "version_minor": 0
      },
      "text/plain": [
       "FigureCanvasNbAgg()"
      ]
     },
     "metadata": {},
     "output_type": "display_data"
    }
   ],
   "source": [
    "'''\n",
    "Layer 4\n",
    "'''\n",
    "if dim == 3:\n",
    "    from mpl_toolkits.mplot3d import Axes3D\n",
    "    import matplotlib.pyplot as plt\n",
    "    fig = plt.figure()\n",
    "    ax = fig.add_subplot(111, projection='3d')\n",
    "    data = genomeDF_layer4[genomeDF_layer4['layer'] == 4.0]\n",
    "    ax.scatter(data['x'], data['y'], data['z'], c=data['color'])\n",
    "    plt.show()\n",
    "if dim == 2:\n",
    "    fig, ax = plt.subplots()\n",
    "    data = genome_layer_44\n",
    "    ax.scatter(data['x'], data['y'], c=data['color'])"
   ]
  },
  {
   "cell_type": "code",
   "execution_count": null,
   "metadata": {},
   "outputs": [],
   "source": []
  }
 ],
 "metadata": {
  "kernelspec": {
   "display_name": "Python 2",
   "language": "python",
   "name": "python2"
  },
  "language_info": {
   "codemirror_mode": {
    "name": "ipython",
    "version": 2
   },
   "file_extension": ".py",
   "mimetype": "text/x-python",
   "name": "python",
   "nbconvert_exporter": "python",
   "pygments_lexer": "ipython2",
   "version": "2.7.14"
  }
 },
 "nbformat": 4,
 "nbformat_minor": 2
}
