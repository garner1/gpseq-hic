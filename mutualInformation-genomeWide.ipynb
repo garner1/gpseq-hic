{
 "cells": [
  {
   "cell_type": "markdown",
   "metadata": {},
   "source": [
    "Load necessary libraries and functions:"
   ]
  },
  {
   "cell_type": "code",
   "execution_count": 2,
   "metadata": {},
   "outputs": [],
   "source": [
    "import numpy as np\n",
    "from scipy.sparse import coo_matrix\n",
    "import matplotlib.pyplot as plt\n",
    "import seaborn as sns; sns.set()\n",
    "from numpy import linalg as LA\n",
    "from scipy.sparse.linalg import svds, eigs\n",
    "from sklearn.decomposition import PCA\n",
    "from scipy.sparse import csr_matrix\n",
    "\n",
    "def convertNansToZeros(ma):\n",
    "    nan_elements = np.flatnonzero(np.isnan(ma.data))\n",
    "    if len(nan_elements) > 0:\n",
    "        ma.data[nan_elements] = 0\n",
    "    return ma\n",
    "\n",
    "\n",
    "def convertInfsToZeros(ma):\n",
    "    inf_elements = np.flatnonzero(np.isinf(ma.data))\n",
    "    if len(inf_elements) > 0:\n",
    "        ma.data[inf_elements] = 0\n",
    "    return ma"
   ]
  },
  {
   "cell_type": "code",
   "execution_count": 56,
   "metadata": {},
   "outputs": [
    {
     "name": "stdout",
     "output_type": "stream",
     "text": [
      "1 10min\n",
      "2 10min\n",
      "3 10min\n",
      "4 10min\n",
      "5 10min\n",
      "6 10min\n",
      "7 10min\n",
      "8 10min\n",
      "9 10min\n",
      "10 10min\n",
      "1 15min\n",
      "2 15min\n",
      "3 15min\n",
      "4 15min\n",
      "5 15min\n",
      "6 15min\n",
      "7 15min\n",
      "8 15min\n",
      "9 15min\n",
      "10 15min\n",
      "1 30min\n",
      "2 30min\n",
      "3 30min\n",
      "4 30min\n",
      "5 30min\n",
      "6 30min\n",
      "7 30min\n",
      "8 30min\n",
      "9 30min\n",
      "10 30min\n",
      "1 on\n",
      "2 on\n",
      "3 on\n",
      "4 on\n",
      "5 on\n",
      "6 on\n",
      "7 on\n",
      "8 on\n",
      "9 on\n",
      "10 on\n"
     ]
    }
   ],
   "source": [
    "run = 'bc48'\n",
    "time = 'on'\n",
    "centrality = 10\n",
    "karyotype = [1,2,3,4,5,6,7,8,10,11,12,13,14,15,16,17,18,19,20,21,'X'] # chr9 and chr22 are missing \n",
    "# karyotype = [21]\n",
    "for time in ['10min','15min','30min','on']:\n",
    "    for centrality in range(1,11):\n",
    "        print centrality, time\n",
    "        for chr_i in karyotype:\n",
    "            gpseq_i = '/home/garner1/Work/dataset/gpseq+hic/gpseq.1M.bincount/'+run+'/'+time+'/chr'+str(chr_i)\n",
    "            datap_gpseq_i = np.loadtxt(gpseq_i,usecols=(0,1))\n",
    "            i_gpseq = datap_gpseq_i[:,0].astype(int)\n",
    "            pi_gpseq = datap_gpseq_i[:,1].astype(int)\n",
    "            rows_gpseq = int(max(i_gpseq))\n",
    "            for chr_j in karyotype[karyotype.index(chr_i):]:\n",
    "                gpseq_j = '/home/garner1/Work/dataset/gpseq+hic/gpseq.1M.bincount/'+run+'/'+time+'/chr'+str(chr_j)\n",
    "                hic = '/home/garner1/Work/dataset/gpseq+hic/'+run+'/chr'+str(chr_i)+'-chr'+str(chr_j)+'.inter.observed.none.txt.'+run+'.tsv'\n",
    "\n",
    "                datap_gpseq_j = np.loadtxt(gpseq_j,usecols=(0,1))\n",
    "                data_hic = np.loadtxt(hic,usecols=(0,1,2,3,4,5,6))\n",
    "\n",
    "                i_hic = data_hic[:,0].astype(int) # bin labels as rows\n",
    "                j_hic = data_hic[:,1].astype(int) # bil labels as cols\n",
    "                pij_hic = data_hic[:,2].astype(int) # number of contact between i and j bins\n",
    "\n",
    "                j_gpseq = datap_gpseq_j[:,0].astype(int) \n",
    "                pj_gpseq = datap_gpseq_j[:,1].astype(int) \n",
    "\n",
    "                rows_hic = int(max(i_hic))\n",
    "                cols_hic = int(max(j_hic))\n",
    "                cols_gpseq = int(max(j_gpseq))\n",
    "                rows = max([rows_hic,rows_gpseq])\n",
    "                cols = max([cols_hic,cols_gpseq])\n",
    "\n",
    "                joint = coo_matrix((pij_hic, (i_hic, j_hic)), shape=(rows+1, cols+1)).todense()\n",
    "                row_index = np.array(i_hic[data_hic[:,3] == centrality]) # filter mat by centralities\n",
    "                col_index = np.array(j_hic[data_hic[:,5] == centrality]) # filter mat by centralities\n",
    "                newjoint = np.zeros(joint.shape)\n",
    "                for row in xrange(joint.shape[0]):\n",
    "                    for col in xrange(joint.shape[1]):\n",
    "                        if (row in row_index) and (col in col_index):\n",
    "                            newjoint[row,col] = joint[row,col]\n",
    "                locals()['JOINTchrom'+str(chr_i)+'chrom'+str(chr_j)+'_layer'+str(centrality)+'_'+str(time)] = newjoint\n",
    "                if chr_i is not chr_j: \n",
    "                    locals()['JOINTchrom'+str(chr_j)+'chrom'+str(chr_i)+'_layer'+str(centrality)+'_'+str(time)] = locals()['JOINTchrom'+str(chr_i)+'chrom'+str(chr_j)+'_layer'+str(centrality)+'_'+str(time)].transpose()\n",
    "            locals()['MARGINALSchrom'+str(chr_i)+'_layer'+str(centrality)+'_'+str(time)] = coo_matrix((pi_gpseq, (i_gpseq, np.zeros(len(i_gpseq)))), shape=(rows+1, 1)).todense().ravel()    \n",
    "    "
   ]
  },
  {
   "cell_type": "code",
   "execution_count": null,
   "metadata": {},
   "outputs": [],
   "source": []
  },
  {
   "cell_type": "code",
   "execution_count": 59,
   "metadata": {},
   "outputs": [
    {
     "name": "stdout",
     "output_type": "stream",
     "text": [
      "10min\n"
     ]
    },
    {
     "name": "stderr",
     "output_type": "stream",
     "text": [
      "/home/garner1/anaconda2/lib/python2.7/site-packages/ipykernel_launcher.py:10: RuntimeWarning: invalid value encountered in divide\n",
      "  # Remove the CWD from sys.path while we load stuff.\n",
      "/home/garner1/anaconda2/lib/python2.7/site-packages/ipykernel_launcher.py:10: RuntimeWarning: divide by zero encountered in log2\n",
      "  # Remove the CWD from sys.path while we load stuff.\n"
     ]
    },
    {
     "name": "stdout",
     "output_type": "stream",
     "text": [
      "12.778915179557849\n",
      "13.223092211677189\n",
      "13.468598126678213\n",
      "13.558412110245808\n",
      "13.835131302991629\n",
      "13.810301358731522\n",
      "14.035396661476675\n",
      "14.277181686900015\n",
      "14.58271088844188\n",
      "14.74895389836896\n",
      "15min\n",
      "12.608702394186441\n",
      "13.070430683861519\n",
      "13.371763779885283\n",
      "13.46992741750415\n",
      "13.813953468587673\n",
      "13.79496474102631\n",
      "14.070192374046833\n",
      "14.340139850296424\n",
      "14.691629929240143\n",
      "14.950764893393949\n",
      "30min\n",
      "13.101601986176401\n",
      "13.369223058671686\n",
      "13.532336114126208\n",
      "13.545066486449622\n",
      "13.721811311161533\n",
      "13.614898282619201\n",
      "13.749667089746648\n",
      "13.88444980137204\n",
      "14.05835791521181\n",
      "14.083803435039735\n",
      "on\n",
      "14.039188106737642\n",
      "14.07433794559939\n",
      "14.031929337118584\n",
      "13.873226399660709\n",
      "13.861962609847343\n",
      "13.572192484460988\n",
      "13.444417581310423\n",
      "13.347835075114547\n",
      "13.127321952038045\n",
      "12.521193756347863\n"
     ]
    }
   ],
   "source": [
    "karyotype = [1,2,3,4,5,6,7,8,10,11,12,13,14,15,16,17,18,19,20,21,'X'] \n",
    "for time in ['10min','15min','30min','on']:\n",
    "    print time\n",
    "    for centrality in range(1,11):\n",
    "        joint = np.block([[locals()['JOINTchrom'+str(i)+'chrom'+str(j)+'_layer'+str(centrality)+'_'+str(time)] for j in karyotype] for i in karyotype])\n",
    "        joint = joint*1.0/joint.sum()\n",
    "        marginal = np.block([locals()['MARGINALSchrom'+str(i)+'_layer'+str(centrality)+'_'+str(time)] for i in karyotype])    \n",
    "        marginal = marginal*1.0/marginal.sum()\n",
    "\n",
    "        info = np.log2(joint*1.0/np.outer(marginal,marginal))\n",
    "        info = convertNansToZeros(coo_matrix(info)).todense()\n",
    "        info = convertInfsToZeros(coo_matrix(info)).todense()\n",
    "\n",
    "        locals()['MI_layer'+str(centrality)+'_'+str(time)] = np.array(joint) * np.array(info)\n",
    "        print locals()['MI_layer'+str(centrality)+'_'+str(time)].sum()"
   ]
  },
  {
   "cell_type": "code",
   "execution_count": 63,
   "metadata": {},
   "outputs": [
    {
     "data": {
      "image/png": "[encoded data removed]",
      "text/plain": [
       "<Figure size 432x288 with 1 Axes>"
      ]
     },
     "metadata": {},
     "output_type": "display_data"
    }
   ],
   "source": [
    "fig, ax = plt.subplots()\n",
    "time = '10min'\n",
    "y = [locals()['MI_layer'+str(centrality)+'_'+str(time)].sum() for centrality in range(1,11)]\n",
    "ax.scatter(x=range(len(y)),y=y,color='blue',label='10min')\n",
    "\n",
    "time = '15min'\n",
    "y = [locals()['MI_layer'+str(centrality)+'_'+str(time)].sum() for centrality in range(1,11)]\n",
    "ax.scatter(x=range(len(y)),y=y,color='green',label='15min')\n",
    "\n",
    "time = '30min'\n",
    "y = [locals()['MI_layer'+str(centrality)+'_'+str(time)].sum() for centrality in range(1,11)]\n",
    "ax.scatter(x=range(len(y)),y=y,color='red',label='30min')\n",
    "\n",
    "time = 'on'\n",
    "y = [locals()['MI_layer'+str(centrality)+'_'+str(time)].sum() for centrality in range(1,11)]\n",
    "ax.scatter(x=range(len(y)),y=y,color='orange',label='ON')\n",
    "\n",
    "ax.set_xticks(range(0,10))\n",
    "ax.set_xticklabels([\"periphery\",\"VIII\",\"VII\",\"VI\",\"V\",\"IV\",\"III\",\"II\",\"I\",\"center\"])\n",
    "ax.set_title('Mutual information')\n",
    "plt.legend()\n",
    "plt.savefig('MI_genome-wide.png')\n"
   ]
  }
 ],
 "metadata": {
  "kernelspec": {
   "display_name": "Python 2",
   "language": "python",
   "name": "python2"
  },
  "language_info": {
   "codemirror_mode": {
    "name": "ipython",
    "version": 2
   },
   "file_extension": ".py",
   "mimetype": "text/x-python",
   "name": "python",
   "nbconvert_exporter": "python",
   "pygments_lexer": "ipython2",
   "version": "2.7.14"
  }
 },
 "nbformat": 4,
 "nbformat_minor": 2
}
