{
 "cells": [
  {
   "cell_type": "markdown",
   "metadata": {},
   "source": [
    "Load necessary libraries and functions:"
   ]
  },
  {
   "cell_type": "code",
   "execution_count": 4,
   "metadata": {},
   "outputs": [],
   "source": [
    "import numpy as np\n",
    "from scipy.sparse import coo_matrix\n",
    "import matplotlib.pyplot as plt\n",
    "import seaborn as sns; sns.set()\n",
    "from numpy import linalg as LA\n",
    "from scipy.sparse.linalg import svds, eigs\n",
    "from sklearn.decomposition import PCA\n",
    "from scipy.sparse import csr_matrix\n",
    "\n",
    "def convertNansToZeros(ma):\n",
    "    nan_elements = np.flatnonzero(np.isnan(ma.data))\n",
    "    if len(nan_elements) > 0:\n",
    "        ma.data[nan_elements] = 0\n",
    "    return ma\n",
    "\n",
    "\n",
    "def convertInfsToZeros(ma):\n",
    "    inf_elements = np.flatnonzero(np.isinf(ma.data))\n",
    "    if len(inf_elements) > 0:\n",
    "        ma.data[inf_elements] = 0\n",
    "    return ma\n",
    "def check_symmetric(a, tol=1e-8):\n",
    "    return np.allclose(a, a.T, atol=tol)"
   ]
  },
  {
   "cell_type": "code",
   "execution_count": 5,
   "metadata": {},
   "outputs": [
    {
     "name": "stdout",
     "output_type": "stream",
     "text": [
      "1 10min\n",
      "2 10min\n",
      "3 10min\n",
      "4 10min\n",
      "5 10min\n",
      "6 10min\n",
      "7 10min\n",
      "8 10min\n",
      "9 10min\n",
      "10 10min\n",
      "1 15min\n",
      "2 15min\n",
      "3 15min\n",
      "4 15min\n",
      "5 15min\n",
      "6 15min\n",
      "7 15min\n",
      "8 15min\n",
      "9 15min\n",
      "10 15min\n",
      "1 30min\n",
      "2 30min\n",
      "3 30min\n",
      "4 30min\n",
      "5 30min\n",
      "6 30min\n",
      "7 30min\n",
      "8 30min\n",
      "9 30min\n",
      "10 30min\n",
      "1 on\n",
      "2 on\n",
      "3 on\n",
      "4 on\n",
      "5 on\n",
      "6 on\n",
      "7 on\n",
      "8 on\n",
      "9 on\n",
      "10 on\n"
     ]
    }
   ],
   "source": [
    "run = 'bc48'\n",
    "gpseqdir = '/home/garner1/Work/dataset/gpseq+hic/gpseq.1M.bincount/'\n",
    "hicdir = '/home/garner1/Work/dataset/gpseq+hic/'\n",
    "partition = 'deciles'\n",
    "# partition = 'fixed_step_centrality'\n",
    "karyotype = [1,2,3,4,5,6,7,8,10,11,12,13,14,15,16,17,18,19,20,21,'X'] # chr9 and chr22 are missing \n",
    "for time in ['10min','15min','30min','on']:\n",
    "    for centrality in range(1,11):\n",
    "        print centrality, time\n",
    "        for chr_i in karyotype:\n",
    "            gpseq_i = gpseqdir+run+'/'+time+'/chr'+str(chr_i)\n",
    "            datap_gpseq_i = np.loadtxt(gpseq_i,usecols=(0,1))\n",
    "            i_gpseq = datap_gpseq_i[:,0].astype(int) #bin i in gpseq\n",
    "            pi_gpseq = datap_gpseq_i[:,1].astype(int) #count in bin i\n",
    "            rows_gpseq = int(max(i_gpseq)) \n",
    "            for chr_j in karyotype[karyotype.index(chr_i):]:\n",
    "                gpseq_j = gpseqdir+run+'/'+time+'/chr'+str(chr_j)\n",
    "                hic = hicdir+run+'/'+partition+'/chr'+str(chr_i)+'-chr'+str(chr_j)+'.1M.none.observed.txt.'+run+'.tsv'\n",
    "\n",
    "                datap_gpseq_j = np.loadtxt(gpseq_j,usecols=(0,1)) \n",
    "                data_hic = np.loadtxt(hic,usecols=(0,1,2,3,4,5,6))\n",
    "\n",
    "                i_hic = data_hic[:,0].astype(int) # bin labels as rows\n",
    "                j_hic = data_hic[:,1].astype(int) # bin labels as cols\n",
    "                pij_hic = data_hic[:,2].astype(int) # number of contact between i and j bins\n",
    "\n",
    "                j_gpseq = datap_gpseq_j[:,0].astype(int) # bin j in gpseq\n",
    "                pj_gpseq = datap_gpseq_j[:,1].astype(int) # count in bin j from gpseq\n",
    "\n",
    "                rows_hic = int(max(i_hic))\n",
    "                cols_hic = int(max(j_hic))\n",
    "                cols_gpseq = int(max(j_gpseq))\n",
    "                rows = max([rows_hic,rows_gpseq])\n",
    "                cols = max([cols_hic,cols_gpseq])\n",
    "\n",
    "                joint = coo_matrix((pij_hic, (i_hic, j_hic)), shape=(rows+1, cols+1)).todense()\n",
    "                \n",
    "                row_index = np.array(i_hic[data_hic[:,3] == centrality]) # filter mat by centralities\n",
    "                col_index = np.array(j_hic[data_hic[:,5] == centrality]) # filter mat by centralities\n",
    "                newjoint = np.zeros(joint.shape)\n",
    "                for row in xrange(joint.shape[0]):\n",
    "                    for col in xrange(joint.shape[1]):\n",
    "                        if (row in row_index) and (col in col_index):\n",
    "                            newjoint[row,col] = joint[row,col]\n",
    "                if chr_i is chr_j: \n",
    "                    locals()['JOINTchrom'+str(chr_i)+'chrom'+str(chr_j)+'_layer'+str(centrality)] = newjoint+newjoint.transpose()\n",
    "                if chr_i is not chr_j: \n",
    "                    locals()['JOINTchrom'+str(chr_i)+'chrom'+str(chr_j)+'_layer'+str(centrality)] = newjoint\n",
    "                    locals()['JOINTchrom'+str(chr_j)+'chrom'+str(chr_i)+'_layer'+str(centrality)] = newjoint.transpose()\n",
    "            locals()['MARGINALSchrom'+str(chr_i)+'_layer'+str(centrality)+'_'+str(time)] = coo_matrix((pi_gpseq, (i_gpseq, np.zeros(len(i_gpseq)))), shape=(rows+1, 1)).todense().ravel()    \n",
    "    "
   ]
  },
  {
   "cell_type": "code",
   "execution_count": 6,
   "metadata": {},
   "outputs": [
    {
     "name": "stdout",
     "output_type": "stream",
     "text": [
      "1 41401416.0\n",
      "2 43855848.0\n",
      "3 49900784.0\n",
      "4 57632686.0\n",
      "5 64229068.0\n",
      "6 75895362.0\n",
      "7 85700324.0\n",
      "8 98247056.0\n",
      "9 122682392.0\n",
      "10 169126810.0\n"
     ]
    }
   ],
   "source": [
    "'''Build the genome-wide matrix as a block matrix of chromosomes'''\n",
    "for centrality in range(1,11):\n",
    "    locals()['genome_'+str(centrality)] = np.block([[locals()['JOINTchrom'+str(i)+'chrom'+str(j)+'_layer'+str(centrality)] for j in karyotype] for i in karyotype])\n",
    "    print centrality, locals()['genome_'+str(centrality)].sum()\n",
    "    for time in ['10min','15min','30min','on']: \n",
    "        locals()['marginal_'+str(centrality)+str(time)] = np.block([locals()['MARGINALSchrom'+str(i)+'_layer'+str(centrality)+'_'+str(time)] for i in karyotype])\n",
    "\n",
    "'''Take the total sum of the joint counts'''\n",
    "genome = locals()['genome_'+str(1)]\n",
    "for centrality in range(2,11):\n",
    "    genome = genome + locals()['genome_'+str(centrality)]\n",
    "norma = genome.sum()\n",
    "\n",
    "'''Take the total sum of the marginal counts'''\n",
    "for time in ['10min','15min','30min','on']:  \n",
    "    locals()['marginal_time'+str(time)] = locals()['marginal_'+str(1)+str(time)]\n",
    "    for centrality in range(2,11):\n",
    "        locals()['marginal_time'+str(time)] = locals()['marginal_time'+str(time)] + locals()['marginal_'+str(centrality)+str(time)]\n",
    "    locals()['norma_time'+str(time)]= locals()['marginal_time'+str(time)].sum()"
   ]
  },
  {
   "cell_type": "code",
   "execution_count": 7,
   "metadata": {},
   "outputs": [
    {
     "name": "stdout",
     "output_type": "stream",
     "text": [
      "10min\n"
     ]
    },
    {
     "name": "stderr",
     "output_type": "stream",
     "text": [
      "/home/garner1/anaconda2/lib/python2.7/site-packages/ipykernel_launcher.py:10: RuntimeWarning: invalid value encountered in divide\n",
      "  # Remove the CWD from sys.path while we load stuff.\n",
      "/home/garner1/anaconda2/lib/python2.7/site-packages/ipykernel_launcher.py:10: RuntimeWarning: divide by zero encountered in log2\n",
      "  # Remove the CWD from sys.path while we load stuff.\n"
     ]
    },
    {
     "name": "stdout",
     "output_type": "stream",
     "text": [
      "0.855014825800684\n",
      "0.933629739185217\n",
      "1.0860497425456466\n",
      "1.2662051812949149\n",
      "1.4449956291874404\n",
      "1.7166565089596513\n",
      "1.9606068501687433\n",
      "2.2869792830568727\n",
      "2.9195931157266637\n",
      "4.048036501648298\n",
      "15min\n",
      "0.8315211159003176\n",
      "0.9152686041530531\n",
      "1.0696133658210674\n",
      "1.2534911818729968\n",
      "1.430341583961156\n",
      "1.7090048714717876\n",
      "1.9608920543929114\n",
      "2.276244339388149\n",
      "2.9027494374364986\n",
      "4.020435880542841\n",
      "30min\n",
      "0.8227009301013464\n",
      "0.898086666079911\n",
      "1.04015804823907\n",
      "1.2179114091775365\n",
      "1.3799445611196222\n",
      "1.6392041938166348\n",
      "1.8704892674652513\n",
      "2.1685877922286116\n",
      "2.743915716622398\n",
      "3.765323678859321\n",
      "on\n",
      "0.8646792420080456\n",
      "0.9294256560716244\n",
      "1.063067815870229\n",
      "1.2317045352340126\n",
      "1.3809547277373504\n",
      "1.624038136749653\n",
      "1.8260898571814634\n",
      "2.0864552802084195\n",
      "2.5871280231996177\n",
      "3.4182080260307535\n"
     ]
    }
   ],
   "source": [
    "'''For each time and centrality layer evaluate the partial mutual information'''\n",
    "for time in ['10min','15min','30min','on']:\n",
    "    print time\n",
    "    for centrality in range(1,11):\n",
    "        joint = np.block([[locals()['JOINTchrom'+str(i)+'chrom'+str(j)+'_layer'+str(centrality)] for j in karyotype] for i in karyotype])\n",
    "        joint = joint*1.0/norma\n",
    "        marginal = np.block([locals()['MARGINALSchrom'+str(i)+'_layer'+str(centrality)+'_'+str(time)] for i in karyotype])    \n",
    "        marginal = marginal*1.0/locals()['norma_time'+str(time)]\n",
    "\n",
    "        info = np.log2(joint*1.0/np.outer(marginal,marginal))\n",
    "        info = convertNansToZeros(coo_matrix(info)).todense()\n",
    "        info = convertInfsToZeros(coo_matrix(info)).todense()\n",
    "\n",
    "        locals()['MI_layer'+str(centrality)+'_'+str(time)] = np.array(joint) * np.array(info)\n",
    "        print locals()['MI_layer'+str(centrality)+'_'+str(time)].sum()"
   ]
  },
  {
   "cell_type": "code",
   "execution_count": 12,
   "metadata": {},
   "outputs": [
    {
     "name": "stderr",
     "output_type": "stream",
     "text": [
      "/home/garner1/anaconda2/lib/python2.7/site-packages/ipykernel_launcher.py:8: RuntimeWarning: invalid value encountered in divide\n",
      "  \n",
      "/home/garner1/anaconda2/lib/python2.7/site-packages/ipykernel_launcher.py:8: RuntimeWarning: divide by zero encountered in log2\n",
      "  \n"
     ]
    },
    {
     "name": "stdout",
     "output_type": "stream",
     "text": [
      "0.5544266480769611\n",
      "0.6036766899218967\n",
      "0.680012546664285\n",
      "0.7683985717216868\n",
      "0.8512107881454647\n",
      "0.9802631846780681\n",
      "1.0827806404299745\n",
      "1.2089032550666632\n",
      "1.4303849757394564\n",
      "1.723776362996795\n"
     ]
    }
   ],
   "source": [
    "'''For each centrality layer evaluate the partial mutual information considering HiC only'''\n",
    "marginal = np.sum(genome*1.0/genome.sum(), 1)\n",
    "marginal = marginal*1.0/marginal.sum()\n",
    "for centrality in range(1,11):\n",
    "    joint = locals()['genome_'+str(centrality)]\n",
    "    joint = joint*1.0/norma\n",
    "\n",
    "    info = np.log2(joint*1.0/np.outer(marginal,marginal))\n",
    "    info = convertNansToZeros(coo_matrix(info)).todense()\n",
    "    info = convertInfsToZeros(coo_matrix(info)).todense()\n",
    "\n",
    "    locals()['MI_layer'+str(centrality)] = np.array(joint) * np.array(info)\n",
    "    locals()['control_layer'+str(centrality)] = joint.sum()\n",
    "    \n",
    "    print locals()['MI_layer'+str(centrality)].sum()\n",
    "    "
   ]
  },
  {
   "cell_type": "code",
   "execution_count": 13,
   "metadata": {},
   "outputs": [
    {
     "data": {
      "image/png": "[encoded data removed]",
      "text/plain": [
       "<Figure size 432x288 with 1 Axes>"
      ]
     },
     "metadata": {},
     "output_type": "display_data"
    }
   ],
   "source": [
    "fig, ax = plt.subplots()\n",
    "time = '10min'\n",
    "y = [locals()['MI_layer'+str(centrality)+'_'+str(time)].sum() for centrality in range(1,11)]\n",
    "ax.scatter(x=range(len(y)),y=y,color='blue',label='10min')\n",
    "\n",
    "time = '15min'\n",
    "y = [locals()['MI_layer'+str(centrality)+'_'+str(time)].sum() for centrality in range(1,11)]\n",
    "ax.scatter(x=range(len(y)),y=y,color='green',label='15min')\n",
    "\n",
    "time = '30min'\n",
    "y = [locals()['MI_layer'+str(centrality)+'_'+str(time)].sum() for centrality in range(1,11)]\n",
    "ax.scatter(x=range(len(y)),y=y,color='red',label='30min')\n",
    "\n",
    "time = 'on'\n",
    "y = [locals()['MI_layer'+str(centrality)+'_'+str(time)].sum() for centrality in range(1,11)]\n",
    "ax.scatter(x=range(len(y)),y=y,color='orange',label='ON')\n",
    "\n",
    "y = [locals()['MI_layer'+str(centrality)].sum() for centrality in range(1,11)]\n",
    "ax.scatter(x=range(len(y)),y=y,color='yellow',label='HiC')\n",
    "\n",
    "y = [locals()['control_layer'+str(centrality)] for centrality in range(1,11)]\n",
    "ax.scatter(x=range(len(y)),y=y,color='brown',label='normalized-pair-count')\n",
    "\n",
    "ax.set_xticks(range(0,10))\n",
    "ax.set_xticklabels([\"periphery\",\"VIII\",\"VII\",\"VI\",\"V\",\"IV\",\"III\",\"II\",\"I\",\"center\"])\n",
    "ax.set_title('Mutual information BC48 with deciles')\n",
    "plt.legend()\n",
    "plt.savefig('MI_BC48 with deciles.png')\n"
   ]
  }
 ],
 "metadata": {
  "kernelspec": {
   "display_name": "Python 2",
   "language": "python",
   "name": "python2"
  },
  "language_info": {
   "codemirror_mode": {
    "name": "ipython",
    "version": 2
   },
   "file_extension": ".py",
   "mimetype": "text/x-python",
   "name": "python",
   "nbconvert_exporter": "python",
   "pygments_lexer": "ipython2",
   "version": "2.7.14"
  }
 },
 "nbformat": 4,
 "nbformat_minor": 2
}
