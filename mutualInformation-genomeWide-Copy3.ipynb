{
 "cells": [
  {
   "cell_type": "markdown",
   "metadata": {},
   "source": [
    "Load necessary libraries and functions:"
   ]
  },
  {
   "cell_type": "code",
   "execution_count": 4,
   "metadata": {},
   "outputs": [],
   "source": [
    "import numpy as np\n",
    "from scipy.sparse import coo_matrix\n",
    "import matplotlib.pyplot as plt\n",
    "import seaborn as sns; sns.set()\n",
    "from numpy import linalg as LA\n",
    "from scipy.sparse.linalg import svds, eigs\n",
    "from sklearn.decomposition import PCA\n",
    "from scipy.sparse import csr_matrix\n",
    "\n",
    "def convertNansToZeros(ma):\n",
    "    nan_elements = np.flatnonzero(np.isnan(ma.data))\n",
    "    if len(nan_elements) > 0:\n",
    "        ma.data[nan_elements] = 0\n",
    "    return ma\n",
    "\n",
    "\n",
    "def convertInfsToZeros(ma):\n",
    "    inf_elements = np.flatnonzero(np.isinf(ma.data))\n",
    "    if len(inf_elements) > 0:\n",
    "        ma.data[inf_elements] = 0\n",
    "    return ma\n",
    "def check_symmetric(a, tol=1e-8):\n",
    "    return np.allclose(a, a.T, atol=tol)"
   ]
  },
  {
   "cell_type": "code",
   "execution_count": 5,
   "metadata": {},
   "outputs": [
    {
     "name": "stdout",
     "output_type": "stream",
     "text": [
      "1 10min\n",
      "2 10min\n",
      "3 10min\n",
      "4 10min\n",
      "5 10min\n",
      "6 10min\n",
      "7 10min\n",
      "8 10min\n",
      "9 10min\n",
      "10 10min\n",
      "1 15min\n",
      "2 15min\n",
      "3 15min\n",
      "4 15min\n",
      "5 15min\n",
      "6 15min\n",
      "7 15min\n",
      "8 15min\n",
      "9 15min\n",
      "10 15min\n",
      "1 30min\n",
      "2 30min\n",
      "3 30min\n",
      "4 30min\n",
      "5 30min\n",
      "6 30min\n",
      "7 30min\n",
      "8 30min\n",
      "9 30min\n",
      "10 30min\n",
      "1 on\n",
      "2 on\n",
      "3 on\n",
      "4 on\n",
      "5 on\n",
      "6 on\n",
      "7 on\n",
      "8 on\n",
      "9 on\n",
      "10 on\n"
     ]
    }
   ],
   "source": [
    "run = 'bc52'\n",
    "time = 'on'\n",
    "gpseqdir = '/home/garner1/Work/dataset/gpseq+hic/gpseq.1M.bincount/'\n",
    "hicdir = '/home/garner1/Work/dataset/gpseq+hic/'\n",
    "partition = 'deciles'\n",
    "# partition = 'fixed_step_centrality'\n",
    "karyotype = [1,2,3,4,5,6,7,8,10,11,12,13,14,15,16,17,18,19,20,21,'X'] # chr9 and chr22 are missing \n",
    "for time in ['10min','15min','30min','on']:\n",
    "    for centrality in range(1,11):\n",
    "        print centrality, time\n",
    "        for chr_i in karyotype:\n",
    "            gpseq_i = gpseqdir+run+'/'+time+'/chr'+str(chr_i)\n",
    "            datap_gpseq_i = np.loadtxt(gpseq_i,usecols=(0,1))\n",
    "            i_gpseq = datap_gpseq_i[:,0].astype(int) #bin i in gpseq\n",
    "            pi_gpseq = datap_gpseq_i[:,1].astype(int) #count in bin i\n",
    "            rows_gpseq = int(max(i_gpseq)) \n",
    "            for chr_j in karyotype[karyotype.index(chr_i):]:\n",
    "                gpseq_j = gpseqdir+run+'/'+time+'/chr'+str(chr_j)\n",
    "                hic = hicdir+run+'/'+partition+'/chr'+str(chr_i)+'-chr'+str(chr_j)+'.1M.none.observed.txt.'+run+'.tsv'\n",
    "\n",
    "                datap_gpseq_j = np.loadtxt(gpseq_j,usecols=(0,1)) \n",
    "                data_hic = np.loadtxt(hic,usecols=(0,1,2,3,4,5,6))\n",
    "\n",
    "                i_hic = data_hic[:,0].astype(int) # bin labels as rows\n",
    "                j_hic = data_hic[:,1].astype(int) # bin labels as cols\n",
    "                pij_hic = data_hic[:,2].astype(int) # number of contact between i and j bins\n",
    "\n",
    "                j_gpseq = datap_gpseq_j[:,0].astype(int) # bin j in gpseq\n",
    "                pj_gpseq = datap_gpseq_j[:,1].astype(int) # count in bin j from gpseq\n",
    "\n",
    "                rows_hic = int(max(i_hic))\n",
    "                cols_hic = int(max(j_hic))\n",
    "                cols_gpseq = int(max(j_gpseq))\n",
    "                rows = max([rows_hic,rows_gpseq])\n",
    "                cols = max([cols_hic,cols_gpseq])\n",
    "\n",
    "                joint = coo_matrix((pij_hic, (i_hic, j_hic)), shape=(rows+1, cols+1)).todense()\n",
    "                \n",
    "                row_index = np.array(i_hic[data_hic[:,3] == centrality]) # filter mat by centralities\n",
    "                col_index = np.array(j_hic[data_hic[:,5] == centrality]) # filter mat by centralities\n",
    "                newjoint = np.zeros(joint.shape)\n",
    "                for row in xrange(joint.shape[0]):\n",
    "                    for col in xrange(joint.shape[1]):\n",
    "                        if (row in row_index) and (col in col_index):\n",
    "                            newjoint[row,col] = joint[row,col]\n",
    "                if chr_i is chr_j: \n",
    "                    locals()['JOINTchrom'+str(chr_i)+'chrom'+str(chr_j)+'_layer'+str(centrality)] = newjoint+newjoint.transpose()\n",
    "                if chr_i is not chr_j: \n",
    "                    locals()['JOINTchrom'+str(chr_i)+'chrom'+str(chr_j)+'_layer'+str(centrality)] = newjoint\n",
    "                    locals()['JOINTchrom'+str(chr_j)+'chrom'+str(chr_i)+'_layer'+str(centrality)] = newjoint.transpose()\n",
    "            locals()['MARGINALSchrom'+str(chr_i)+'_layer'+str(centrality)+'_'+str(time)] = coo_matrix((pi_gpseq, (i_gpseq, np.zeros(len(i_gpseq)))), shape=(rows+1, 1)).todense().ravel()    \n",
    "    "
   ]
  },
  {
   "cell_type": "code",
   "execution_count": 6,
   "metadata": {},
   "outputs": [
    {
     "name": "stdout",
     "output_type": "stream",
     "text": [
      "1 42467958.0\n",
      "2 42811402.0\n",
      "3 51733092.0\n",
      "4 55229586.0\n",
      "5 67896406.0\n",
      "6 79869310.0\n",
      "7 92912332.0\n",
      "8 99258910.0\n",
      "9 120095746.0\n",
      "10 161410180.0\n"
     ]
    }
   ],
   "source": [
    "'''Build the genome-wide matrix as a block matrix of chromosomes'''\n",
    "for centrality in range(1,11):\n",
    "    locals()['genome_'+str(centrality)] = np.block([[locals()['JOINTchrom'+str(i)+'chrom'+str(j)+'_layer'+str(centrality)] for j in karyotype] for i in karyotype])\n",
    "    print centrality, locals()['genome_'+str(centrality)].sum()\n",
    "    for time in ['10min','15min','30min','on']: \n",
    "        locals()['marginal_'+str(centrality)+str(time)] = np.block([locals()['MARGINALSchrom'+str(i)+'_layer'+str(centrality)+'_'+str(time)] for i in karyotype])\n",
    "\n",
    "'''Take the total sum of the joint counts'''\n",
    "genome = locals()['genome_'+str(1)]\n",
    "for centrality in range(2,11):\n",
    "    genome = genome + locals()['genome_'+str(centrality)]\n",
    "norma = genome.sum()\n",
    "\n",
    "'''Take the total sum of the marginal counts'''\n",
    "for time in ['10min','15min','30min','on']:  \n",
    "    locals()['marginal_time'+str(time)] = locals()['marginal_'+str(1)+str(time)]\n",
    "    for centrality in range(2,11):\n",
    "        locals()['marginal_time'+str(time)] = locals()['marginal_time'+str(time)] + locals()['marginal_'+str(centrality)+str(time)]\n",
    "    locals()['norma_time'+str(time)]= locals()['marginal_time'+str(time)].sum()"
   ]
  },
  {
   "cell_type": "code",
   "execution_count": 7,
   "metadata": {},
   "outputs": [
    {
     "name": "stdout",
     "output_type": "stream",
     "text": [
      "10min\n"
     ]
    },
    {
     "name": "stderr",
     "output_type": "stream",
     "text": [
      "/home/garner1/anaconda2/lib/python2.7/site-packages/ipykernel_launcher.py:10: RuntimeWarning: invalid value encountered in divide\n",
      "  # Remove the CWD from sys.path while we load stuff.\n",
      "/home/garner1/anaconda2/lib/python2.7/site-packages/ipykernel_launcher.py:10: RuntimeWarning: divide by zero encountered in log2\n",
      "  # Remove the CWD from sys.path while we load stuff.\n"
     ]
    },
    {
     "name": "stdout",
     "output_type": "stream",
     "text": [
      "0.8108447880171399\n",
      "0.8533311666532831\n",
      "1.0583836003338634\n",
      "1.1451096555631164\n",
      "1.4399665171160068\n",
      "1.7144112527958633\n",
      "2.0352090225873987\n",
      "2.2094549866703135\n",
      "2.742948544590273\n",
      "3.7595195121537133\n",
      "15min\n",
      "0.7955043840797396\n",
      "0.8381996174766964\n",
      "1.0416582125784604\n",
      "1.129671871754623\n",
      "1.4251818281780337\n",
      "1.7015076418938184\n",
      "2.0199221909447296\n",
      "2.203014094186575\n",
      "2.736387230079953\n",
      "3.762644089781301\n",
      "30min\n",
      "0.8123878869095846\n",
      "0.8504662974184487\n",
      "1.0498774930361825\n",
      "1.133345279072053\n",
      "1.4193406256589742\n",
      "1.6862805327241015\n",
      "1.9910214574883958\n",
      "2.160241966701816\n",
      "2.660662326144237\n",
      "3.6173662633012786\n",
      "on\n",
      "0.8839058507503543\n",
      "0.9040434672780159\n",
      "1.097556632505752\n",
      "1.1683413868514374\n",
      "1.4359873351777241\n",
      "1.671579776887854\n",
      "1.9474761773431866\n",
      "2.0714959802064064\n",
      "2.4803704490763847\n",
      "3.2013218083159303\n"
     ]
    }
   ],
   "source": [
    "'''For each time and centrality layer evaluate the partial mutual information'''\n",
    "for time in ['10min','15min','30min','on']:\n",
    "    print time\n",
    "    for centrality in range(1,11):\n",
    "        joint = np.block([[locals()['JOINTchrom'+str(i)+'chrom'+str(j)+'_layer'+str(centrality)] for j in karyotype] for i in karyotype])\n",
    "        joint = joint*1.0/norma\n",
    "        marginal = np.block([locals()['MARGINALSchrom'+str(i)+'_layer'+str(centrality)+'_'+str(time)] for i in karyotype])    \n",
    "        marginal = marginal*1.0/locals()['norma_time'+str(time)]\n",
    "\n",
    "        info = np.log2(joint*1.0/np.outer(marginal,marginal))\n",
    "        info = convertNansToZeros(coo_matrix(info)).todense()\n",
    "        info = convertInfsToZeros(coo_matrix(info)).todense()\n",
    "\n",
    "        locals()['MI_layer'+str(centrality)+'_'+str(time)] = np.array(joint) * np.array(info)\n",
    "        print locals()['MI_layer'+str(centrality)+'_'+str(time)].sum()"
   ]
  },
  {
   "cell_type": "code",
   "execution_count": 12,
   "metadata": {},
   "outputs": [
    {
     "name": "stderr",
     "output_type": "stream",
     "text": [
      "/home/garner1/anaconda2/lib/python2.7/site-packages/ipykernel_launcher.py:8: RuntimeWarning: invalid value encountered in divide\n",
      "  \n",
      "/home/garner1/anaconda2/lib/python2.7/site-packages/ipykernel_launcher.py:8: RuntimeWarning: divide by zero encountered in log2\n",
      "  \n"
     ]
    },
    {
     "name": "stdout",
     "output_type": "stream",
     "text": [
      "0.558266947608023\n",
      "0.5844893855430053\n",
      "0.6953647876025282\n",
      "0.7355982798855578\n",
      "0.8831841333554258\n",
      "1.0115617542383948\n",
      "1.1435985263733233\n",
      "1.2050980796866944\n",
      "1.393088528810198\n",
      "1.6594062847618805\n"
     ]
    }
   ],
   "source": [
    "'''For each centrality layer evaluate the partial mutual information considering HiC only'''\n",
    "marginal = np.sum(genome*1.0/genome.sum(), 1)\n",
    "marginal = marginal*1.0/marginal.sum()\n",
    "for centrality in range(1,11):\n",
    "    joint = locals()['genome_'+str(centrality)]\n",
    "    joint = joint*1.0/norma\n",
    "\n",
    "    info = np.log2(joint*1.0/np.outer(marginal,marginal))\n",
    "    info = convertNansToZeros(coo_matrix(info)).todense()\n",
    "    info = convertInfsToZeros(coo_matrix(info)).todense()\n",
    "\n",
    "    locals()['MI_layer'+str(centrality)] = np.array(joint) * np.array(info)\n",
    "    locals()['control_layer'+str(centrality)] = joint.sum()\n",
    "    \n",
    "    print locals()['MI_layer'+str(centrality)].sum()\n",
    "    "
   ]
  },
  {
   "cell_type": "code",
   "execution_count": 13,
   "metadata": {},
   "outputs": [
    {
     "data": {
      "image/png": "[encoded data removed]",
      "text/plain": [
       "<Figure size 432x288 with 1 Axes>"
      ]
     },
     "metadata": {},
     "output_type": "display_data"
    }
   ],
   "source": [
    "fig, ax = plt.subplots()\n",
    "time = '10min'\n",
    "y = [locals()['MI_layer'+str(centrality)+'_'+str(time)].sum() for centrality in range(1,11)]\n",
    "ax.scatter(x=range(len(y)),y=y,color='blue',label='10min')\n",
    "\n",
    "time = '15min'\n",
    "y = [locals()['MI_layer'+str(centrality)+'_'+str(time)].sum() for centrality in range(1,11)]\n",
    "ax.scatter(x=range(len(y)),y=y,color='green',label='15min')\n",
    "\n",
    "time = '30min'\n",
    "y = [locals()['MI_layer'+str(centrality)+'_'+str(time)].sum() for centrality in range(1,11)]\n",
    "ax.scatter(x=range(len(y)),y=y,color='red',label='30min')\n",
    "\n",
    "time = 'on'\n",
    "y = [locals()['MI_layer'+str(centrality)+'_'+str(time)].sum() for centrality in range(1,11)]\n",
    "ax.scatter(x=range(len(y)),y=y,color='orange',label='ON')\n",
    "\n",
    "y = [locals()['MI_layer'+str(centrality)].sum() for centrality in range(1,11)]\n",
    "ax.scatter(x=range(len(y)),y=y,color='yellow',label='HiC')\n",
    "\n",
    "y = [locals()['control_layer'+str(centrality)] for centrality in range(1,11)]\n",
    "ax.scatter(x=range(len(y)),y=y,color='brown',label='normalized-pair-count')\n",
    "\n",
    "ax.set_xticks(range(0,10))\n",
    "ax.set_xticklabels([\"periphery\",\"VIII\",\"VII\",\"VI\",\"V\",\"IV\",\"III\",\"II\",\"I\",\"center\"])\n",
    "ax.set_title('Mutual information BC52 with deciles')\n",
    "plt.legend()\n",
    "plt.savefig('MI_BC52 with deciles.png')\n"
   ]
  }
 ],
 "metadata": {
  "kernelspec": {
   "display_name": "Python 2",
   "language": "python",
   "name": "python2"
  },
  "language_info": {
   "codemirror_mode": {
    "name": "ipython",
    "version": 2
   },
   "file_extension": ".py",
   "mimetype": "text/x-python",
   "name": "python",
   "nbconvert_exporter": "python",
   "pygments_lexer": "ipython2",
   "version": "2.7.14"
  }
 },
 "nbformat": 4,
 "nbformat_minor": 2
}
