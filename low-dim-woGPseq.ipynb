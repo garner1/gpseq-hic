{
 "cells": [
  {
   "cell_type": "markdown",
   "metadata": {},
   "source": [
    "Load basic libraries:"
   ]
  },
  {
   "cell_type": "code",
   "execution_count": 3,
   "metadata": {},
   "outputs": [],
   "source": [
    "import numpy as np\n",
    "from scipy.sparse import coo_matrix\n",
    "import matplotlib.pyplot as plt\n",
    "import seaborn as sns; sns.set()\n",
    "from numpy import linalg as LA\n",
    "from scipy.sparse.linalg import svds, eigs\n",
    "from sklearn.decomposition import PCA\n",
    "from scipy.sparse import csr_matrix\n",
    "import pickle\n",
    "\n",
    "def convertNansToZeros(ma):\n",
    "    nan_elements = np.flatnonzero(np.isnan(ma.data))\n",
    "    if len(nan_elements) > 0:\n",
    "        ma.data[nan_elements] = 0\n",
    "    return ma\n",
    "\n",
    "\n",
    "def convertInfsToZeros(ma):\n",
    "    inf_elements = np.flatnonzero(np.isinf(ma.data))\n",
    "    if len(inf_elements) > 0:\n",
    "        ma.data[inf_elements] = 0\n",
    "    return ma"
   ]
  },
  {
   "cell_type": "markdown",
   "metadata": {},
   "source": [
    "Load a given dataset, in this tab we do not consider centrality, we only care about HiC data:"
   ]
  },
  {
   "cell_type": "code",
   "execution_count": 4,
   "metadata": {},
   "outputs": [],
   "source": [
    "run = '48'\n",
    "karyotype = [1,2,3,4,5,6,7,8,10,11,12,13,14,15,16,17,18,19,20,21,'X'] # chr9 and chr22 are missing \n",
    "# karyotype = [1]\n",
    "for chr_i in karyotype:\n",
    "    for chr_j in karyotype[karyotype.index(chr_i):]:\n",
    "        filename = '/home/garner1/Work/dataset/gpseq+hic/bc'+run+'/chr'+str(chr_i)+'-chr'+str(chr_j)+'.inter.observed.none.txt.bc'+run+'.tsv'\n",
    "        data = np.loadtxt(filename,usecols=(0,1,2,3,4,5,6))\n",
    "\n",
    "        i = data[:,0].astype(int) # bin labels as rows\n",
    "        j = data[:,1].astype(int) # bil labels as cols\n",
    "        ij = data[:,2].astype(int) # number of contact between i and j bins\n",
    "        \n",
    "        rows = int(max(i))\n",
    "        cols = int(max(j))\n",
    "        mat = coo_matrix((ij, (i, j)), shape=(rows+1, cols+1)).todense()\n",
    "    \n",
    "#         if chr_i == chr_j : \n",
    "#             mat = mat + mat.transpose()\n",
    "        \n",
    "        locals()['chrom'+str(chr_i)+'chrom'+str(chr_j)] = mat\n",
    "        locals()['chrom'+str(chr_j)+'chrom'+str(chr_i)] = mat.transpose()"
   ]
  },
  {
   "cell_type": "markdown",
   "metadata": {},
   "source": [
    "Combine the HiC blocks in order to generate a genome-wide HiC map. \n",
    "\n",
    "The normalization of the genome and centrality values is done in such a way that 2*max_centrality = Log(max_interaction)."
   ]
  },
  {
   "cell_type": "code",
   "execution_count": 6,
   "metadata": {},
   "outputs": [
    {
     "name": "stderr",
     "output_type": "stream",
     "text": [
      "/home/garner1/anaconda2/lib/python2.7/site-packages/ipykernel_launcher.py:3: RuntimeWarning: divide by zero encountered in log\n",
      "  This is separate from the ipykernel package so we can avoid doing imports until\n"
     ]
    }
   ],
   "source": [
    "karyotype = [1,2,3,4,5,6,7,8,10,11,12,13,14,15,16,17,18,19,20,21,'X'] # chr9 and chr22 are missing and C is added\n",
    "genome = np.block([[locals()['chrom'+str(i)+'chrom'+str(j)] for j in karyotype] for i in karyotype])\n",
    "genome = np.log(genome)\n",
    "genome = convertNansToZeros(coo_matrix(genome)).todense()\n",
    "genome = convertInfsToZeros(coo_matrix(genome)).todense()\n",
    "genome = genome + genome.transpose()"
   ]
  },
  {
   "cell_type": "code",
   "execution_count": 7,
   "metadata": {},
   "outputs": [],
   "source": [
    "# %matplotlib\n",
    "# mat = newgenome\n",
    "# mat = convertNansToZeros(coo_matrix(mat)).todense()\n",
    "# mat = convertInfsToZeros(coo_matrix(mat)).todense()\n",
    "\n",
    "# plt.figure(0)\n",
    "\n",
    "# cmap = sns.diverging_palette(220, 20, sep=20, as_cmap=True)\n",
    "# ax = sns.heatmap(mat,center=mat.mean(),cmap=cmap)"
   ]
  },
  {
   "cell_type": "markdown",
   "metadata": {},
   "source": [
    "Use MDS to embed in low dimension. MDS has as input the euclidean distance of each bin contact profile, including centrality:"
   ]
  },
  {
   "cell_type": "code",
   "execution_count": 8,
   "metadata": {},
   "outputs": [],
   "source": [
    "from sklearn.metrics import pairwise_distances\n",
    "from sklearn.manifold import MDS\n",
    "\n",
    "D = pairwise_distances(genome)\n",
    "dim = 2\n",
    "model = MDS(n_components=dim, dissimilarity='precomputed', random_state=1,n_jobs = -1)\n",
    "out = model.fit_transform(D)"
   ]
  },
  {
   "cell_type": "markdown",
   "metadata": {},
   "source": [
    "Generate 21 colors:"
   ]
  },
  {
   "cell_type": "code",
   "execution_count": 9,
   "metadata": {},
   "outputs": [],
   "source": [
    "from matplotlib import colors as mcolors\n",
    "from random import randint,sample\n",
    "\n",
    "colors = dict(mcolors.BASE_COLORS, **mcolors.CSS4_COLORS)\n",
    "# Sort colors by hue, saturation, value and name.\n",
    "by_hsv = sorted((tuple(mcolors.rgb_to_hsv(mcolors.to_rgba(color)[:3])), name)\n",
    "                for name, color in colors.items())\n",
    "sorted_names = [name for hsv, name in by_hsv]\n",
    "# color_list = sample(sorted_names,21) # generate 21 random colors\n",
    "color_list = [u'b', u'lightgoldenrodyellow', u'navajowhite', u'paleturquoise', u'salmon', u'dimgray', u'chartreuse', u'aliceblue', u'royalblue', u'darkgreen', u'mediumturquoise', u'forestgreen', u'thistle', u'orchid', u'gold', u'maroon', u'wheat', u'navy', u'khaki', u'palevioletred', u'cornflowerblue']"
   ]
  },
  {
   "cell_type": "markdown",
   "metadata": {},
   "source": [
    "Create chrom#coordinates,chrom#color,chrom#chromosome data to be merged in a pandas dataframe:"
   ]
  },
  {
   "cell_type": "code",
   "execution_count": 11,
   "metadata": {},
   "outputs": [],
   "source": [
    "import pandas as pd\n",
    "\n",
    "karyotype = [1,2,3,4,5,6,7,8,10,11,12,13,14,15,16,17,18,19,20,21,'X'] # chr9 and chr22 are missing \n",
    "offset = 0\n",
    "for chrom in karyotype:\n",
    "    length = locals()['chrom'+str(chrom)+'chrom'+'1'].shape[0] # the length of the chromosome\n",
    "    locals()['chrom'+str(chrom)+'coordinates'] = out[offset:offset+length,:dim] # its xyz coordinates\n",
    "    locals()['chrom'+str(chrom)+'color'] = [color_list[karyotype.index(chrom)]]*length # its color\n",
    "    locals()['chrom'+str(chrom)+'chromosome'] = [str(chrom)]*length # its label\n",
    "#     locals()['chrom'+str(chrom)+'df'] = pd.DataFrame({'x':locals()['chrom'+str(chrom)+'coordinates'][:,0],'y':locals()['chrom'+str(chrom)+'coordinates'][:,1],'z':locals()['chrom'+str(chrom)+'coordinates'][:,2], 'color':locals()['chrom'+str(chrom)+'color'][0],'chromosome':locals()['chrom'+str(chrom)+'chromosome'][0]})\n",
    "    locals()['chrom'+str(chrom)+'df'] = pd.DataFrame({'x':locals()['chrom'+str(chrom)+'coordinates'][:,0],'y':locals()['chrom'+str(chrom)+'coordinates'][:,1],'color':locals()['chrom'+str(chrom)+'color'][0],'chromosome':locals()['chrom'+str(chrom)+'chromosome'][0]})\n",
    "    offset = length+offset\n",
    "genome_df = pd.concat([locals()['chrom'+str(chrom)+'df'] for chrom in karyotype])"
   ]
  },
  {
   "cell_type": "code",
   "execution_count": 23,
   "metadata": {},
   "outputs": [
    {
     "data": {
      "application/vnd.jupyter.widget-view+json": {
       "model_id": "6bf56b20d2e74b3e84362663c9887ad1",
       "version_major": 2,
       "version_minor": 0
      },
      "text/plain": [
       "FigureCanvasNbAgg()"
      ]
     },
     "metadata": {},
     "output_type": "display_data"
    }
   ],
   "source": [
    "ax1 = genome_df.plot.scatter('x','y',color=genome_df['color'])"
   ]
  },
  {
   "cell_type": "code",
   "execution_count": 31,
   "metadata": {},
   "outputs": [
    {
     "data": {
      "application/vnd.jupyter.widget-view+json": {
       "model_id": "68509db2dd1745e9a38839fcc27de2d1",
       "version_major": 2,
       "version_minor": 0
      },
      "text/plain": [
       "FigureCanvasNbAgg()"
      ]
     },
     "metadata": {},
     "output_type": "display_data"
    }
   ],
   "source": [
    "%matplotlib ipympl\n",
    "import matplotlib.pyplot as plt\n",
    "from mpl_toolkits.mplot3d import Axes3D\n",
    "\n",
    "\n",
    "fig = plt.figure()\n",
    "ax = fig.add_subplot(111, projection='3d')\n",
    "data = genome_df\n",
    "ax.scatter(data['x'], data['y'], data['z'], c=data['color'])\n",
    "plt.show()\n"
   ]
  },
  {
   "cell_type": "code",
   "execution_count": 26,
   "metadata": {},
   "outputs": [
    {
     "data": {
      "text/plain": [
       "(2814, 4)"
      ]
     },
     "execution_count": 26,
     "metadata": {},
     "output_type": "execute_result"
    }
   ],
   "source": [
    "genome_df.shape"
   ]
  },
  {
   "cell_type": "code",
   "execution_count": 12,
   "metadata": {
    "scrolled": true
   },
   "outputs": [
    {
     "data": {
      "text/plain": [
       "<Figure size 144x360 with 0 Axes>"
      ]
     },
     "metadata": {},
     "output_type": "display_data"
    }
   ],
   "source": [
    "import matplotlib.patches as mpatches\n",
    "fig = plt.figure(figsize=(2, 5))\n",
    "patches = [\n",
    "    mpatches.Patch(color=color, label=label)\n",
    "    for label, color in zip(karyotype, color_list)]\n",
    "fig.legend(patches, karyotype, loc='center', frameon=False)\n",
    "plt.show()"
   ]
  },
  {
   "cell_type": "code",
   "execution_count": 13,
   "metadata": {},
   "outputs": [
    {
     "ename": "IndexError",
     "evalue": "only integers, slices (`:`), ellipsis (`...`), numpy.newaxis (`None`) and integer or boolean arrays are valid indices",
     "output_type": "error",
     "traceback": [
      "\u001b[0;31m\u001b[0m",
      "\u001b[0;31mIndexError\u001b[0mTraceback (most recent call last)",
      "\u001b[0;32m<ipython-input-13-aa3038fa747e>\u001b[0m in \u001b[0;36m<module>\u001b[0;34m()\u001b[0m\n\u001b[1;32m      1\u001b[0m \u001b[0mfig\u001b[0m\u001b[0;34m,\u001b[0m \u001b[0max\u001b[0m \u001b[0;34m=\u001b[0m \u001b[0mplt\u001b[0m\u001b[0;34m.\u001b[0m\u001b[0msubplots\u001b[0m\u001b[0;34m(\u001b[0m\u001b[0;34m)\u001b[0m\u001b[0;34m\u001b[0m\u001b[0m\n\u001b[0;32m----> 2\u001b[0;31m \u001b[0max\u001b[0m\u001b[0;34m.\u001b[0m\u001b[0mscatter\u001b[0m\u001b[0;34m(\u001b[0m\u001b[0mdata\u001b[0m\u001b[0;34m[\u001b[0m\u001b[0;34m'x'\u001b[0m\u001b[0;34m]\u001b[0m\u001b[0;34m,\u001b[0m \u001b[0mdata\u001b[0m\u001b[0;34m[\u001b[0m\u001b[0;34m'y'\u001b[0m\u001b[0;34m]\u001b[0m\u001b[0;34m,\u001b[0m \u001b[0mc\u001b[0m\u001b[0;34m=\u001b[0m\u001b[0mdata\u001b[0m\u001b[0;34m[\u001b[0m\u001b[0;34m'color'\u001b[0m\u001b[0;34m]\u001b[0m\u001b[0;34m)\u001b[0m\u001b[0;34m\u001b[0m\u001b[0m\n\u001b[0m",
      "\u001b[0;31mIndexError\u001b[0m: only integers, slices (`:`), ellipsis (`...`), numpy.newaxis (`None`) and integer or boolean arrays are valid indices"
     ]
    },
    {
     "data": {
      "image/png": "[encoded data removed]",
      "text/plain": [
       "<Figure size 432x288 with 1 Axes>"
      ]
     },
     "metadata": {},
     "output_type": "display_data"
    }
   ],
   "source": [
    "fig, ax = plt.subplots()\n",
    "ax.scatter(data['x'], data['y'], c=data['color'])"
   ]
  }
 ],
 "metadata": {
  "kernelspec": {
   "display_name": "Python 2",
   "language": "python",
   "name": "python2"
  },
  "language_info": {
   "codemirror_mode": {
    "name": "ipython",
    "version": 2
   },
   "file_extension": ".py",
   "mimetype": "text/x-python",
   "name": "python",
   "nbconvert_exporter": "python",
   "pygments_lexer": "ipython2",
   "version": "2.7.14"
  }
 },
 "nbformat": 4,
 "nbformat_minor": 2
}
