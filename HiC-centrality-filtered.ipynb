{
 "cells": [
  {
   "cell_type": "code",
   "execution_count": null,
   "metadata": {},
   "outputs": [],
   "source": [
    "import numpy as np\n",
    "from scipy.sparse import coo_matrix\n",
    "import matplotlib.pyplot as plt\n",
    "import seaborn as sns; sns.set()\n",
    "from numpy import linalg as LA\n",
    "from scipy.sparse.linalg import svds, eigs\n",
    "from sklearn.decomposition import PCA\n",
    "from scipy.sparse import csr_matrix\n",
    "import pickle\n",
    "\n",
    "def convertNansToZeros(ma):\n",
    "    nan_elements = np.flatnonzero(np.isnan(ma.data))\n",
    "    if len(nan_elements) > 0:\n",
    "        ma.data[nan_elements] = 0\n",
    "    return ma\n",
    "\n",
    "\n",
    "def convertInfsToZeros(ma):\n",
    "    inf_elements = np.flatnonzero(np.isinf(ma.data))\n",
    "    if len(inf_elements) > 0:\n",
    "        ma.data[inf_elements] = 0\n",
    "    return ma"
   ]
  },
  {
   "cell_type": "code",
   "execution_count": 8,
   "metadata": {},
   "outputs": [],
   "source": [
    "# Load a given dataset, in this tab we do not consider centrality, we only care about HiC data\n",
    "run = '48'\n",
    "karyotype = [1,2,3,4,5,6,7,8,10,11,12,13,14,15,16,17,18,19,20,21,'X'] # chr9 and chr22 are missing \n",
    "for chr_i in karyotype:\n",
    "    for chr_j in karyotype[karyotype.index(chr_i):]:\n",
    "        filename = '/home/garner1/Work/dataset/gpseq+hic/bc'+run+'/chr'+str(chr_i)+'-chr'+str(chr_j)+'.inter.observed.none.txt.bc'+run+'.tsv'\n",
    "        data = np.loadtxt(filename,usecols=(0,1,2))\n",
    "\n",
    "        i = data[:,0] # bin labels as rows\n",
    "        j = data[:,1] # bil labels as cols\n",
    "        ij = data[:,2] # number of contact between i and j bins\n",
    "        \n",
    "        rows = int(max(i))\n",
    "        cols = int(max(j))\n",
    "        mat = coo_matrix((ij, (i, j)), shape=(rows+1, cols+1)).todense()\n",
    "        if chr_i == chr_j : \n",
    "            mat = mat + mat.transpose()\n",
    "        locals()['chrom'+str(chr_i)+'chrom'+str(chr_j)] = mat\n",
    "        locals()['chrom'+str(chr_j)+'chrom'+str(chr_i)] = mat.transpose()"
   ]
  },
  {
   "cell_type": "code",
   "execution_count": 9,
   "metadata": {},
   "outputs": [
    {
     "name": "stdout",
     "output_type": "stream",
     "text": [
      "Using matplotlib backend: Qt5Agg\n"
     ]
    },
    {
     "name": "stderr",
     "output_type": "stream",
     "text": [
      "/home/garner1/anaconda2/lib/python2.7/site-packages/ipykernel_launcher.py:5: RuntimeWarning: divide by zero encountered in log\n",
      "  \"\"\"\n"
     ]
    }
   ],
   "source": [
    "# Combine the HiC blocks in order to generate a genome-wide HiC map\n",
    "genome = np.block([[locals()['chrom'+str(i)+'chrom'+str(j)] for j in karyotype] for i in karyotype])\n",
    "\n",
    "# %matplotlib\n",
    "\n",
    "mat = np.log(genome)\n",
    "mat = convertNansToZeros(coo_matrix(mat)).todense()\n",
    "mat = convertInfsToZeros(coo_matrix(mat)).todense()\n",
    "\n",
    "plt.figure(0)\n",
    "\n",
    "cmap = sns.diverging_palette(220, 20, sep=20, as_cmap=True)\n",
    "ax = sns.heatmap(mat,center=mat.mean(),cmap=cmap)\n",
    "# ax = sns.heatmap(mat)\n"
   ]
  },
  {
   "cell_type": "markdown",
   "metadata": {},
   "source": [
    "Now consider the centralities as well:"
   ]
  },
  {
   "cell_type": "code",
   "execution_count": null,
   "metadata": {},
   "outputs": [],
   "source": [
    "# Store the HiC data into pickle files after filtering by centrality\n",
    "karyotype = [1,2,3,4,5,6,7,8,10,11,12,13,14,15,16,17,18,19,20,21,'X'] # chr9 and chr22 are missing \n",
    "for run in ['48','52','58']:\n",
    "    for centrality_i in range(1,5):\n",
    "        for centrality_j in range(1,5):\n",
    "            print run, centrality_i, centrality_j\n",
    "            for chr_i in karyotype:\n",
    "                for chr_j in karyotype[karyotype.index(chr_i):]:\n",
    "                    filename = '/home/garner1/Work/dataset/gpseq+hic/bc'+run+'/chr'+str(chr_i)+'-chr'+str(chr_j)+'.inter.observed.none.txt.bc'+run+'.tsv'\n",
    "                    data = np.loadtxt(filename,usecols=(0,1,2,3,4,5))\n",
    "\n",
    "                    i = data[:,0] # bin labels as rows\n",
    "                    j = data[:,1] # bin labels as cols\n",
    "                    ij = data[:,2] # number of contact between i and j bins\n",
    "\n",
    "                    rows = int(max(i))\n",
    "                    cols = int(max(j))\n",
    "                    mat = coo_matrix((ij, (i, j)), shape=(rows+1, cols+1)).todense()\n",
    "                    if chr_i == chr_j : \n",
    "                        mat = mat + mat.transpose()\n",
    "                    row_index = np.array(i[data[:,3] == centrality_i]) # filter mat by centralities\n",
    "                    col_index = np.array(j[data[:,5] == centrality_j]) # filter mat by centralities\n",
    "                    newmat = np.zeros(mat.shape)\n",
    "                    for row in xrange(mat.shape[0]):\n",
    "                        for col in xrange(mat.shape[1]):\n",
    "                            if (row in row_index) and (col in col_index):\n",
    "                                newmat[row,col] = mat[row,col]\n",
    "                    locals()['run'+str(run)+'chrom'+str(chr_i)+'chrom'+str(chr_j)+'centrality'+str(centrality_i)+str(centrality_j)] = newmat\n",
    "                    locals()['run'+str(run)+'chrom'+str(chr_j)+'chrom'+str(chr_i)+'centrality'+str(centrality_j)+str(centrality_i)] = newmat.transpose()\n",
    "                    data = locals()['run'+str(run)+'chrom'+str(chr_i)+'chrom'+str(chr_j)+'centrality'+str(centrality_i)+str(centrality_j)]\n",
    "                    filename = '/home/garner1/Work/dataset/gpseq+hic/pickle_files.observed.none/'+'run'+run+'chrom'+str(chr_i)+'chrom'+str(chr_j)+'centrality'+str(centrality_i)+str(centrality_j)+'.p'\n",
    "                    pickle.dump( data, open( filename, \"wb\" ) ) # save data\n",
    "                    data = locals()['run'+str(run)+'chrom'+str(chr_j)+'chrom'+str(chr_i)+'centrality'+str(centrality_j)+str(centrality_i)]\n",
    "                    filename = '/home/garner1/Work/dataset/gpseq+hic/pickle_files.observed.none/'+'run'+run+'chrom'+str(chr_j)+'chrom'+str(chr_i)+'centrality'+str(centrality_j)+str(centrality_i)+'.p'\n",
    "                    pickle.dump( data, open( filename, \"wb\" ) ) # save data\n",
    "\n",
    "# # Load data\n",
    "# karyotype = [1,2,3,4,5,6,7,8,10,11,12,13,14,15,16,17,18,19,20,21,'X'] # chr9 and chr22 are missing \n",
    "# for run in ['48','52','58']:\n",
    "#     for centrality_i in range(1,5):\n",
    "#         for centrality_j in range(1,5):\n",
    "#             print run, centrality_i, centrality_j\n",
    "#             for chr_i in karyotype:\n",
    "#                 for chr_j in karyotype:\n",
    "#                     filename = '/home/garner1/Work/dataset/gpseq+hic/pickle_files.observed.none/'+'run'+str(run)+'chrom'+str(chr_i)+'chrom'+str(chr_j)+'centrality'+str(centrality_j)+str(centrality_i)+'.p'\n",
    "#                     locals()['run'+str(run)+'chrom'+str(chr_i)+'chrom'+str(chr_j)+'centrality'+str(centrality_i)+str(centrality_j)] = pickle.load( open( filename, \"rb\" ) )\n",
    "                    "
   ]
  },
  {
   "cell_type": "code",
   "execution_count": null,
   "metadata": {},
   "outputs": [],
   "source": [
    "# Combine all blocks into a single matrix filtered by centralities\n",
    "karyotype = [1,2,3,4,5,6,7,8,10,11,12,13,14,15,16,17,18,19,20,21,'X'] # chr9 and chr22 are missing \n",
    "run = 48\n",
    "for centrality_i in range(1,5):\n",
    "    for centrality_j in range(1,5):\n",
    "        genome_r1r2 = np.block([[locals()['run'+str(run)+'chrom'+str(i)+'chrom'+str(j)+'centrality'+str(centrality_i)+str(centrality_j)] for j in karyotype] for i in karyotype])\n",
    "        genome_r2r1 = np.block([[locals()['run'+str(run)+'chrom'+str(i)+'chrom'+str(j)+'centrality'+str(centrality_j)+str(centrality_i)] for j in karyotype] for i in karyotype])\n",
    "        genome = genome_r1r2 + genome_r2r1\n",
    "        print abs(centrality_i-centrality_j),genome.mean()\n",
    "\n",
    "# # %matplotlib\n",
    "# mat = np.log(genome)\n",
    "# mat = convertNansToZeros(coo_matrix(mat)).todense()\n",
    "# mat = convertInfsToZeros(coo_matrix(mat)).todense()\n",
    "\n",
    "# plt.figure(0)\n",
    "\n",
    "# cmap = sns.diverging_palette(220, 20, sep=20, as_cmap=True)\n",
    "# ax = sns.heatmap(mat,center=mat.mean(),cmap=cmap)"
   ]
  },
  {
   "cell_type": "code",
   "execution_count": null,
   "metadata": {},
   "outputs": [],
   "source": [
    "plt.figure(0)\n",
    "fig, ax = plt.subplots()\n",
    "y = np.log([1877929240,446412792,178265904,55193388])\n",
    "ax.scatter(x=range(4), y=y)\n",
    "plt.show()\n",
    "# plt.savefig('eigvec_on.png')\n"
   ]
  }
 ],
 "metadata": {
  "kernelspec": {
   "display_name": "Python 2",
   "language": "python",
   "name": "python2"
  },
  "language_info": {
   "codemirror_mode": {
    "name": "ipython",
    "version": 2
   },
   "file_extension": ".py",
   "mimetype": "text/x-python",
   "name": "python",
   "nbconvert_exporter": "python",
   "pygments_lexer": "ipython2",
   "version": "2.7.14"
  }
 },
 "nbformat": 4,
 "nbformat_minor": 2
}
